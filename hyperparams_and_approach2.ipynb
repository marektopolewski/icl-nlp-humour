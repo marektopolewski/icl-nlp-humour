{
  "nbformat": 4,
  "nbformat_minor": 0,
  "metadata": {
    "colab": {
      "name": "task_2_pre_vf.ipynb",
      "provenance": [],
      "collapsed_sections": []
    },
    "kernelspec": {
      "display_name": "Python 3",
      "language": "python",
      "name": "python3"
    },
    "language_info": {
      "codemirror_mode": {
        "name": "ipython",
        "version": 3
      },
      "file_extension": ".py",
      "mimetype": "text/x-python",
      "name": "python",
      "nbconvert_exporter": "python",
      "pygments_lexer": "ipython3",
      "version": "3.6.8"
    },
    "accelerator": "GPU",
    "widgets": {
      "application/vnd.jupyter.widget-state+json": {
        "8ac0c944e4e543d1b01a37fa2af1ae38": {
          "model_module": "@jupyter-widgets/controls",
          "model_name": "HBoxModel",
          "state": {
            "_view_name": "HBoxView",
            "_dom_classes": [],
            "_model_name": "HBoxModel",
            "_view_module": "@jupyter-widgets/controls",
            "_model_module_version": "1.5.0",
            "_view_count": null,
            "_view_module_version": "1.5.0",
            "box_style": "",
            "layout": "IPY_MODEL_aa4746520b0c4d4d8706fb2ade2ca2be",
            "_model_module": "@jupyter-widgets/controls",
            "children": [
              "IPY_MODEL_2bde9d8a8b0446fc97db81c9b32e0a1f",
              "IPY_MODEL_939fe0f1bfc84b7ca4f74880fc8d09de"
            ]
          }
        },
        "aa4746520b0c4d4d8706fb2ade2ca2be": {
          "model_module": "@jupyter-widgets/base",
          "model_name": "LayoutModel",
          "state": {
            "_view_name": "LayoutView",
            "grid_template_rows": null,
            "right": null,
            "justify_content": null,
            "_view_module": "@jupyter-widgets/base",
            "overflow": null,
            "_model_module_version": "1.2.0",
            "_view_count": null,
            "flex_flow": null,
            "width": null,
            "min_width": null,
            "border": null,
            "align_items": null,
            "bottom": null,
            "_model_module": "@jupyter-widgets/base",
            "top": null,
            "grid_column": null,
            "overflow_y": null,
            "overflow_x": null,
            "grid_auto_flow": null,
            "grid_area": null,
            "grid_template_columns": null,
            "flex": null,
            "_model_name": "LayoutModel",
            "justify_items": null,
            "grid_row": null,
            "max_height": null,
            "align_content": null,
            "visibility": null,
            "align_self": null,
            "height": null,
            "min_height": null,
            "padding": null,
            "grid_auto_rows": null,
            "grid_gap": null,
            "max_width": null,
            "order": null,
            "_view_module_version": "1.2.0",
            "grid_template_areas": null,
            "object_position": null,
            "object_fit": null,
            "grid_auto_columns": null,
            "margin": null,
            "display": null,
            "left": null
          }
        },
        "2bde9d8a8b0446fc97db81c9b32e0a1f": {
          "model_module": "@jupyter-widgets/controls",
          "model_name": "FloatProgressModel",
          "state": {
            "_view_name": "ProgressView",
            "style": "IPY_MODEL_529590baab1f4d9fa048db9de6e0f659",
            "_dom_classes": [],
            "description": "Downloading: 100%",
            "_model_name": "FloatProgressModel",
            "bar_style": "success",
            "max": 433,
            "_view_module": "@jupyter-widgets/controls",
            "_model_module_version": "1.5.0",
            "value": 433,
            "_view_count": null,
            "_view_module_version": "1.5.0",
            "orientation": "horizontal",
            "min": 0,
            "description_tooltip": null,
            "_model_module": "@jupyter-widgets/controls",
            "layout": "IPY_MODEL_75ef15063549455d95b6276e5af9f8ee"
          }
        },
        "939fe0f1bfc84b7ca4f74880fc8d09de": {
          "model_module": "@jupyter-widgets/controls",
          "model_name": "HTMLModel",
          "state": {
            "_view_name": "HTMLView",
            "style": "IPY_MODEL_62b72c8ff0244fbbabfdf2cc882b1a50",
            "_dom_classes": [],
            "description": "",
            "_model_name": "HTMLModel",
            "placeholder": "​",
            "_view_module": "@jupyter-widgets/controls",
            "_model_module_version": "1.5.0",
            "value": " 433/433 [00:17&lt;00:00, 24.9B/s]",
            "_view_count": null,
            "_view_module_version": "1.5.0",
            "description_tooltip": null,
            "_model_module": "@jupyter-widgets/controls",
            "layout": "IPY_MODEL_8890fb6fcd9744dcb22462fd1702e36c"
          }
        },
        "529590baab1f4d9fa048db9de6e0f659": {
          "model_module": "@jupyter-widgets/controls",
          "model_name": "ProgressStyleModel",
          "state": {
            "_view_name": "StyleView",
            "_model_name": "ProgressStyleModel",
            "description_width": "initial",
            "_view_module": "@jupyter-widgets/base",
            "_model_module_version": "1.5.0",
            "_view_count": null,
            "_view_module_version": "1.2.0",
            "bar_color": null,
            "_model_module": "@jupyter-widgets/controls"
          }
        },
        "75ef15063549455d95b6276e5af9f8ee": {
          "model_module": "@jupyter-widgets/base",
          "model_name": "LayoutModel",
          "state": {
            "_view_name": "LayoutView",
            "grid_template_rows": null,
            "right": null,
            "justify_content": null,
            "_view_module": "@jupyter-widgets/base",
            "overflow": null,
            "_model_module_version": "1.2.0",
            "_view_count": null,
            "flex_flow": null,
            "width": null,
            "min_width": null,
            "border": null,
            "align_items": null,
            "bottom": null,
            "_model_module": "@jupyter-widgets/base",
            "top": null,
            "grid_column": null,
            "overflow_y": null,
            "overflow_x": null,
            "grid_auto_flow": null,
            "grid_area": null,
            "grid_template_columns": null,
            "flex": null,
            "_model_name": "LayoutModel",
            "justify_items": null,
            "grid_row": null,
            "max_height": null,
            "align_content": null,
            "visibility": null,
            "align_self": null,
            "height": null,
            "min_height": null,
            "padding": null,
            "grid_auto_rows": null,
            "grid_gap": null,
            "max_width": null,
            "order": null,
            "_view_module_version": "1.2.0",
            "grid_template_areas": null,
            "object_position": null,
            "object_fit": null,
            "grid_auto_columns": null,
            "margin": null,
            "display": null,
            "left": null
          }
        },
        "62b72c8ff0244fbbabfdf2cc882b1a50": {
          "model_module": "@jupyter-widgets/controls",
          "model_name": "DescriptionStyleModel",
          "state": {
            "_view_name": "StyleView",
            "_model_name": "DescriptionStyleModel",
            "description_width": "",
            "_view_module": "@jupyter-widgets/base",
            "_model_module_version": "1.5.0",
            "_view_count": null,
            "_view_module_version": "1.2.0",
            "_model_module": "@jupyter-widgets/controls"
          }
        },
        "8890fb6fcd9744dcb22462fd1702e36c": {
          "model_module": "@jupyter-widgets/base",
          "model_name": "LayoutModel",
          "state": {
            "_view_name": "LayoutView",
            "grid_template_rows": null,
            "right": null,
            "justify_content": null,
            "_view_module": "@jupyter-widgets/base",
            "overflow": null,
            "_model_module_version": "1.2.0",
            "_view_count": null,
            "flex_flow": null,
            "width": null,
            "min_width": null,
            "border": null,
            "align_items": null,
            "bottom": null,
            "_model_module": "@jupyter-widgets/base",
            "top": null,
            "grid_column": null,
            "overflow_y": null,
            "overflow_x": null,
            "grid_auto_flow": null,
            "grid_area": null,
            "grid_template_columns": null,
            "flex": null,
            "_model_name": "LayoutModel",
            "justify_items": null,
            "grid_row": null,
            "max_height": null,
            "align_content": null,
            "visibility": null,
            "align_self": null,
            "height": null,
            "min_height": null,
            "padding": null,
            "grid_auto_rows": null,
            "grid_gap": null,
            "max_width": null,
            "order": null,
            "_view_module_version": "1.2.0",
            "grid_template_areas": null,
            "object_position": null,
            "object_fit": null,
            "grid_auto_columns": null,
            "margin": null,
            "display": null,
            "left": null
          }
        },
        "36ca361be6d247a688bd8bf31931481e": {
          "model_module": "@jupyter-widgets/controls",
          "model_name": "HBoxModel",
          "state": {
            "_view_name": "HBoxView",
            "_dom_classes": [],
            "_model_name": "HBoxModel",
            "_view_module": "@jupyter-widgets/controls",
            "_model_module_version": "1.5.0",
            "_view_count": null,
            "_view_module_version": "1.5.0",
            "box_style": "",
            "layout": "IPY_MODEL_991b982d57b5492b94f752716647b8ab",
            "_model_module": "@jupyter-widgets/controls",
            "children": [
              "IPY_MODEL_1040f27693ff41998e203827ab8b22df",
              "IPY_MODEL_d296620b626e4daa83680af7a8be7209"
            ]
          }
        },
        "991b982d57b5492b94f752716647b8ab": {
          "model_module": "@jupyter-widgets/base",
          "model_name": "LayoutModel",
          "state": {
            "_view_name": "LayoutView",
            "grid_template_rows": null,
            "right": null,
            "justify_content": null,
            "_view_module": "@jupyter-widgets/base",
            "overflow": null,
            "_model_module_version": "1.2.0",
            "_view_count": null,
            "flex_flow": null,
            "width": null,
            "min_width": null,
            "border": null,
            "align_items": null,
            "bottom": null,
            "_model_module": "@jupyter-widgets/base",
            "top": null,
            "grid_column": null,
            "overflow_y": null,
            "overflow_x": null,
            "grid_auto_flow": null,
            "grid_area": null,
            "grid_template_columns": null,
            "flex": null,
            "_model_name": "LayoutModel",
            "justify_items": null,
            "grid_row": null,
            "max_height": null,
            "align_content": null,
            "visibility": null,
            "align_self": null,
            "height": null,
            "min_height": null,
            "padding": null,
            "grid_auto_rows": null,
            "grid_gap": null,
            "max_width": null,
            "order": null,
            "_view_module_version": "1.2.0",
            "grid_template_areas": null,
            "object_position": null,
            "object_fit": null,
            "grid_auto_columns": null,
            "margin": null,
            "display": null,
            "left": null
          }
        },
        "1040f27693ff41998e203827ab8b22df": {
          "model_module": "@jupyter-widgets/controls",
          "model_name": "FloatProgressModel",
          "state": {
            "_view_name": "ProgressView",
            "style": "IPY_MODEL_9f9d65b3247a4d679babc3de0b558234",
            "_dom_classes": [],
            "description": "Downloading: 100%",
            "_model_name": "FloatProgressModel",
            "bar_style": "success",
            "max": 435779157,
            "_view_module": "@jupyter-widgets/controls",
            "_model_module_version": "1.5.0",
            "value": 435779157,
            "_view_count": null,
            "_view_module_version": "1.5.0",
            "orientation": "horizontal",
            "min": 0,
            "description_tooltip": null,
            "_model_module": "@jupyter-widgets/controls",
            "layout": "IPY_MODEL_815985d183554563acc7450770cee264"
          }
        },
        "d296620b626e4daa83680af7a8be7209": {
          "model_module": "@jupyter-widgets/controls",
          "model_name": "HTMLModel",
          "state": {
            "_view_name": "HTMLView",
            "style": "IPY_MODEL_117c271bccc44262aea6f15c7589a7a5",
            "_dom_classes": [],
            "description": "",
            "_model_name": "HTMLModel",
            "placeholder": "​",
            "_view_module": "@jupyter-widgets/controls",
            "_model_module_version": "1.5.0",
            "value": " 436M/436M [00:10&lt;00:00, 43.3MB/s]",
            "_view_count": null,
            "_view_module_version": "1.5.0",
            "description_tooltip": null,
            "_model_module": "@jupyter-widgets/controls",
            "layout": "IPY_MODEL_b48179d18df34155be4cd6049d7b560e"
          }
        },
        "9f9d65b3247a4d679babc3de0b558234": {
          "model_module": "@jupyter-widgets/controls",
          "model_name": "ProgressStyleModel",
          "state": {
            "_view_name": "StyleView",
            "_model_name": "ProgressStyleModel",
            "description_width": "initial",
            "_view_module": "@jupyter-widgets/base",
            "_model_module_version": "1.5.0",
            "_view_count": null,
            "_view_module_version": "1.2.0",
            "bar_color": null,
            "_model_module": "@jupyter-widgets/controls"
          }
        },
        "815985d183554563acc7450770cee264": {
          "model_module": "@jupyter-widgets/base",
          "model_name": "LayoutModel",
          "state": {
            "_view_name": "LayoutView",
            "grid_template_rows": null,
            "right": null,
            "justify_content": null,
            "_view_module": "@jupyter-widgets/base",
            "overflow": null,
            "_model_module_version": "1.2.0",
            "_view_count": null,
            "flex_flow": null,
            "width": null,
            "min_width": null,
            "border": null,
            "align_items": null,
            "bottom": null,
            "_model_module": "@jupyter-widgets/base",
            "top": null,
            "grid_column": null,
            "overflow_y": null,
            "overflow_x": null,
            "grid_auto_flow": null,
            "grid_area": null,
            "grid_template_columns": null,
            "flex": null,
            "_model_name": "LayoutModel",
            "justify_items": null,
            "grid_row": null,
            "max_height": null,
            "align_content": null,
            "visibility": null,
            "align_self": null,
            "height": null,
            "min_height": null,
            "padding": null,
            "grid_auto_rows": null,
            "grid_gap": null,
            "max_width": null,
            "order": null,
            "_view_module_version": "1.2.0",
            "grid_template_areas": null,
            "object_position": null,
            "object_fit": null,
            "grid_auto_columns": null,
            "margin": null,
            "display": null,
            "left": null
          }
        },
        "117c271bccc44262aea6f15c7589a7a5": {
          "model_module": "@jupyter-widgets/controls",
          "model_name": "DescriptionStyleModel",
          "state": {
            "_view_name": "StyleView",
            "_model_name": "DescriptionStyleModel",
            "description_width": "",
            "_view_module": "@jupyter-widgets/base",
            "_model_module_version": "1.5.0",
            "_view_count": null,
            "_view_module_version": "1.2.0",
            "_model_module": "@jupyter-widgets/controls"
          }
        },
        "b48179d18df34155be4cd6049d7b560e": {
          "model_module": "@jupyter-widgets/base",
          "model_name": "LayoutModel",
          "state": {
            "_view_name": "LayoutView",
            "grid_template_rows": null,
            "right": null,
            "justify_content": null,
            "_view_module": "@jupyter-widgets/base",
            "overflow": null,
            "_model_module_version": "1.2.0",
            "_view_count": null,
            "flex_flow": null,
            "width": null,
            "min_width": null,
            "border": null,
            "align_items": null,
            "bottom": null,
            "_model_module": "@jupyter-widgets/base",
            "top": null,
            "grid_column": null,
            "overflow_y": null,
            "overflow_x": null,
            "grid_auto_flow": null,
            "grid_area": null,
            "grid_template_columns": null,
            "flex": null,
            "_model_name": "LayoutModel",
            "justify_items": null,
            "grid_row": null,
            "max_height": null,
            "align_content": null,
            "visibility": null,
            "align_self": null,
            "height": null,
            "min_height": null,
            "padding": null,
            "grid_auto_rows": null,
            "grid_gap": null,
            "max_width": null,
            "order": null,
            "_view_module_version": "1.2.0",
            "grid_template_areas": null,
            "object_position": null,
            "object_fit": null,
            "grid_auto_columns": null,
            "margin": null,
            "display": null,
            "left": null
          }
        }
      }
    }
  },
  "cells": [
    {
      "cell_type": "markdown",
      "metadata": {
        "id": "view-in-github",
        "colab_type": "text"
      },
      "source": [
        "<a href=\"https://colab.research.google.com/github/marektopolewski/icl-nlp-humour/blob/main/hyperparams_and_approach2.ipynb\" target=\"_parent\"><img src=\"https://colab.research.google.com/assets/colab-badge.svg\" alt=\"Open In Colab\"/></a>"
      ]
    },
    {
      "cell_type": "markdown",
      "metadata": {
        "gradient": {
          "editing": false
        },
        "id": "LO114qTM0Blf"
      },
      "source": [
        "### Coursework coding instructions (please also see full coursework spec)\n",
        "\n",
        "Please choose if you want to do either Task 1 or Task 2. You should write your report about one task only.\n",
        "\n",
        "For the task you choose you will need to do two approaches:\n",
        "  - Approach 1, which can use use pre-trained embeddings / models\n",
        "  - Approach 2, which should not use any pre-trained embeddings or models\n",
        "We should be able to run both approaches from the same colab file\n",
        "\n",
        "#### Running your code:\n",
        "  - Your models should run automatically when running your colab file without further intervention\n",
        "  - For each task you should automatically output the performance of both models\n",
        "  - Your code should automatically download any libraries required\n",
        "\n",
        "#### Structure of your code:\n",
        "  - You are expected to use the 'train', 'eval' and 'model_performance' functions, although you may edit these as required\n",
        "  - Otherwise there are no restrictions on what you can do in your code\n",
        "\n",
        "#### Documentation:\n",
        "  - You are expected to produce a .README file summarising how you have approached both tasks\n",
        "\n",
        "#### Reproducibility:\n",
        "  - Your .README file should explain how to replicate the different experiments mentioned in your report\n",
        "\n",
        "Good luck! We are really looking forward to seeing your reports and your model code!"
      ]
    },
    {
      "cell_type": "code",
      "metadata": {
        "colab": {
          "base_uri": "https://localhost:8080/"
        },
        "id": "PKqe4drh0Blg",
        "outputId": "b1e5f001-1c07-422a-aa5c-b6f40bef2b73"
      },
      "source": [
        "# You will need to download any word embeddings required for your code, e.g.:\n",
        "\n",
        "# !wget http://nlp.stanford.edu/data/glove.6B.zip\n",
        "# !unzip glove.6B.zip\n",
        "\n",
        "# For any packages that Colab does not provide auotmatically you will also need to install these below, e.g.:\n",
        "\n",
        "#! pip install torch\n",
        "%pip install transformers"
      ],
      "execution_count": 1,
      "outputs": [
        {
          "output_type": "stream",
          "text": [
            "Requirement already satisfied: transformers in /usr/local/lib/python3.7/dist-packages (4.3.3)\n",
            "Requirement already satisfied: requests in /usr/local/lib/python3.7/dist-packages (from transformers) (2.23.0)\n",
            "Requirement already satisfied: sacremoses in /usr/local/lib/python3.7/dist-packages (from transformers) (0.0.43)\n",
            "Requirement already satisfied: tokenizers<0.11,>=0.10.1 in /usr/local/lib/python3.7/dist-packages (from transformers) (0.10.1)\n",
            "Requirement already satisfied: regex!=2019.12.17 in /usr/local/lib/python3.7/dist-packages (from transformers) (2019.12.20)\n",
            "Requirement already satisfied: packaging in /usr/local/lib/python3.7/dist-packages (from transformers) (20.9)\n",
            "Requirement already satisfied: tqdm>=4.27 in /usr/local/lib/python3.7/dist-packages (from transformers) (4.41.1)\n",
            "Requirement already satisfied: filelock in /usr/local/lib/python3.7/dist-packages (from transformers) (3.0.12)\n",
            "Requirement already satisfied: importlib-metadata; python_version < \"3.8\" in /usr/local/lib/python3.7/dist-packages (from transformers) (3.7.0)\n",
            "Requirement already satisfied: numpy>=1.17 in /usr/local/lib/python3.7/dist-packages (from transformers) (1.19.5)\n",
            "Requirement already satisfied: chardet<4,>=3.0.2 in /usr/local/lib/python3.7/dist-packages (from requests->transformers) (3.0.4)\n",
            "Requirement already satisfied: urllib3!=1.25.0,!=1.25.1,<1.26,>=1.21.1 in /usr/local/lib/python3.7/dist-packages (from requests->transformers) (1.24.3)\n",
            "Requirement already satisfied: certifi>=2017.4.17 in /usr/local/lib/python3.7/dist-packages (from requests->transformers) (2020.12.5)\n",
            "Requirement already satisfied: idna<3,>=2.5 in /usr/local/lib/python3.7/dist-packages (from requests->transformers) (2.10)\n",
            "Requirement already satisfied: joblib in /usr/local/lib/python3.7/dist-packages (from sacremoses->transformers) (1.0.1)\n",
            "Requirement already satisfied: click in /usr/local/lib/python3.7/dist-packages (from sacremoses->transformers) (7.1.2)\n",
            "Requirement already satisfied: six in /usr/local/lib/python3.7/dist-packages (from sacremoses->transformers) (1.15.0)\n",
            "Requirement already satisfied: pyparsing>=2.0.2 in /usr/local/lib/python3.7/dist-packages (from packaging->transformers) (2.4.7)\n",
            "Requirement already satisfied: typing-extensions>=3.6.4; python_version < \"3.8\" in /usr/local/lib/python3.7/dist-packages (from importlib-metadata; python_version < \"3.8\"->transformers) (3.7.4.3)\n",
            "Requirement already satisfied: zipp>=0.5 in /usr/local/lib/python3.7/dist-packages (from importlib-metadata; python_version < \"3.8\"->transformers) (3.4.0)\n"
          ],
          "name": "stdout"
        }
      ]
    },
    {
      "cell_type": "code",
      "metadata": {
        "id": "8cz1Gndw3Y17",
        "colab": {
          "base_uri": "https://localhost:8080/"
        },
        "outputId": "9a7da022-2680-4b82-fa08-8d06f583ffca"
      },
      "source": [
        "# Download the task dataset\n",
        "\n",
        "!wget https://www.cs.rochester.edu/u/nhossain/humicroedit/semeval-2020-task-7-data-full.zip\n",
        "!unzip semeval-2020-task-7-data-full.zip\n",
        "!rm semeval-2020-task-7-data-full.zip"
      ],
      "execution_count": 2,
      "outputs": [
        {
          "output_type": "stream",
          "text": [
            "--2021-03-02 15:17:00--  https://www.cs.rochester.edu/u/nhossain/humicroedit/semeval-2020-task-7-data-full.zip\n",
            "Resolving www.cs.rochester.edu (www.cs.rochester.edu)... 192.5.53.208\n",
            "Connecting to www.cs.rochester.edu (www.cs.rochester.edu)|192.5.53.208|:443... connected.\n",
            "HTTP request sent, awaiting response... 200 OK\n",
            "Length: 1175243 (1.1M) [application/zip]\n",
            "Saving to: ‘semeval-2020-task-7-data-full.zip’\n",
            "\n",
            "semeval-2020-task-7 100%[===================>]   1.12M  --.-KB/s    in 0.1s    \n",
            "\n",
            "2021-03-02 15:17:00 (11.6 MB/s) - ‘semeval-2020-task-7-data-full.zip’ saved [1175243/1175243]\n",
            "\n",
            "Archive:  semeval-2020-task-7-data-full.zip\n",
            "replace semeval-2020-task-7-data-full/task-1/.DS_Store? [y]es, [n]o, [A]ll, [N]one, [r]ename: A\n",
            "  inflating: semeval-2020-task-7-data-full/task-1/.DS_Store  \n",
            "  inflating: __MACOSX/semeval-2020-task-7-data-full/task-1/._.DS_Store  \n",
            "  inflating: semeval-2020-task-7-data-full/task-1/test.csv  \n",
            "  inflating: __MACOSX/semeval-2020-task-7-data-full/task-1/._test.csv  \n",
            "  inflating: semeval-2020-task-7-data-full/task-1/dev.csv  \n",
            "  inflating: __MACOSX/semeval-2020-task-7-data-full/task-1/._dev.csv  \n",
            "  inflating: semeval-2020-task-7-data-full/task-1/train.csv  \n",
            "  inflating: __MACOSX/semeval-2020-task-7-data-full/task-1/._train.csv  \n",
            "  inflating: semeval-2020-task-7-data-full/task-1/task-1-baseline.zip  \n",
            "  inflating: __MACOSX/semeval-2020-task-7-data-full/._task-1  \n",
            "  inflating: semeval-2020-task-7-data-full/.DS_Store  \n",
            "  inflating: __MACOSX/semeval-2020-task-7-data-full/._.DS_Store  \n",
            "  inflating: semeval-2020-task-7-data-full/task-2/.DS_Store  \n",
            "  inflating: __MACOSX/semeval-2020-task-7-data-full/task-2/._.DS_Store  \n",
            "  inflating: semeval-2020-task-7-data-full/task-2/task-2-baseline.zip  \n",
            "  inflating: semeval-2020-task-7-data-full/task-2/test.csv  \n",
            "  inflating: __MACOSX/semeval-2020-task-7-data-full/task-2/._test.csv  \n",
            "  inflating: semeval-2020-task-7-data-full/task-2/dev.csv  \n",
            "  inflating: __MACOSX/semeval-2020-task-7-data-full/task-2/._dev.csv  \n",
            "  inflating: semeval-2020-task-7-data-full/task-2/train.csv  \n",
            "  inflating: __MACOSX/semeval-2020-task-7-data-full/task-2/._train.csv  \n",
            "  inflating: __MACOSX/semeval-2020-task-7-data-full/._task-2  \n",
            "  inflating: __MACOSX/._semeval-2020-task-7-data-full  \n"
          ],
          "name": "stdout"
        }
      ]
    },
    {
      "cell_type": "code",
      "metadata": {
        "id": "QT-EZhC50Blh"
      },
      "source": [
        "# Imports\n",
        "\n",
        "import torch\n",
        "import torch.nn as nn\n",
        "import pandas as pd\n",
        "import numpy as np\n",
        "from sklearn.feature_extraction.text import CountVectorizer\n",
        "from torch.utils.data import Dataset, random_split\n",
        "from sklearn.feature_extraction.text import TfidfTransformer\n",
        "from sklearn.model_selection import train_test_split\n",
        "from sklearn.naive_bayes import MultinomialNB\n",
        "import torch.optim as optim\n",
        "import codecs\n",
        "import tqdm\n",
        "import random\n",
        "\n",
        "# More imports\n",
        "import transformers\n",
        "from transformers import BertTokenizer, BertPreTrainedModel, BertModel"
      ],
      "execution_count": 3,
      "outputs": []
    },
    {
      "cell_type": "code",
      "metadata": {
        "id": "REQlB22W0Blh"
      },
      "source": [
        "# Setting random seed and device\n",
        "SEED = 1\n",
        "\n",
        "torch.manual_seed(SEED)\n",
        "torch.cuda.manual_seed(SEED)\n",
        "torch.backends.cudnn.deterministic = True\n",
        "\n",
        "use_cuda = torch.cuda.is_available()\n",
        "device = torch.device(\"cuda:0\" if use_cuda else \"cpu\")"
      ],
      "execution_count": 4,
      "outputs": []
    },
    {
      "cell_type": "code",
      "metadata": {
        "id": "Qsy2mTFt0Bli"
      },
      "source": [
        "# Load data\n",
        "train_df = pd.read_csv('semeval-2020-task-7-data-full/task-2/train.csv')\n",
        "val_df = pd.read_csv('semeval-2020-task-7-data-full/task-2/dev.csv')\n",
        "test_df = pd.read_csv('semeval-2020-task-7-data-full/task-2/test.csv')"
      ],
      "execution_count": 5,
      "outputs": []
    },
    {
      "cell_type": "code",
      "metadata": {
        "id": "lcYqpAIXkkuP"
      },
      "source": [
        "#Delete rows with labels 0\n",
        "train_df = train_df[train_df.label != 0]\n",
        "train_df.label = train_df.label - 1\n",
        "\n",
        "#Delete rows with labels 0\n",
        "val_df = val_df[val_df.label != 0]\n",
        "val_df.label = val_df.label - 1"
      ],
      "execution_count": 6,
      "outputs": []
    },
    {
      "cell_type": "code",
      "metadata": {
        "id": "vR9qzBjJ0Bli"
      },
      "source": [
        "# Number of epochs\n",
        "epochs = 10\n",
        "\n",
        "# Proportion of training data for train compared to dev\n",
        "train_proportion = 0.8\n"
      ],
      "execution_count": 7,
      "outputs": []
    },
    {
      "cell_type": "markdown",
      "metadata": {
        "id": "bEo6YgMnqk8A"
      },
      "source": [
        "#### BERT"
      ]
    },
    {
      "cell_type": "markdown",
      "metadata": {
        "id": "58a7a62BtndA"
      },
      "source": [
        "##### Make BERT works"
      ]
    },
    {
      "cell_type": "markdown",
      "metadata": {
        "id": "elMRsCQ70Bli"
      },
      "source": [
        "#### Approach 1: Using pre-trained representations"
      ]
    },
    {
      "cell_type": "code",
      "metadata": {
        "id": "4XlG7CvT0Blj"
      },
      "source": [
        "# We define our training loop\n",
        "def train(train_iter, dev_iter, model, number_epoch, optimizer):\n",
        "    \"\"\"\n",
        "    Training loop for the model, which calls on eval to evaluate after each epoch\n",
        "    \"\"\"\n",
        "\n",
        "    print(\"Training model.\")\n",
        "\n",
        "    log = {'epoch_acc':[], 'valid_acc':[]}\n",
        "\n",
        "    for epoch in range(1, number_epoch+1):\n",
        "        \n",
        "        model.train()\n",
        "        \n",
        "        epoch_loss = 0\n",
        "        epoch_correct = 0\n",
        "        no_observations = 0  # Observations used for training so far\n",
        "        for batch in train_iter:\n",
        "\n",
        "            if model.__class__.__name__ == 'ColBERT':\n",
        "              # predictions if model is BERT\n",
        "              input_ids1, attention_mask1, input_ids2, attention_mask2, target = batch\n",
        "              target =  target.type(torch.FloatTensor)\n",
        "              input_ids1, attention_mask1, input_ids2, attention_mask2, target = input_ids1.to(device), attention_mask1.to(device), input_ids2.to(device), attention_mask2.to(device), target.to(device)\n",
        "              input_ids1 = input_ids1.squeeze(1)\n",
        "              attention_mask1 = attention_mask1.squeeze(1)\n",
        "              input_ids2 = input_ids2.squeeze(1)\n",
        "              attention_mask2 = attention_mask2.squeeze(1)\n",
        "\n",
        "              predictions = model(input_ids1, attention_mask1, input_ids2, attention_mask2).squeeze(1)\n",
        "\n",
        "            elif model.__class__.__name__ == 'BiLSTM_Attention':\n",
        "              X1, X2, target = batch\n",
        "              #target = target.type(torch.FloatTensor)\n",
        "              X1, X2, target = X1.to(device), X2.to(device), target.to(device)\n",
        "              model.batch_size = target.shape[0]\n",
        "              predictions = model(X1, X2).squeeze(1)\n",
        "          \n",
        "            else:\n",
        "              # predictions if model is not BERT\n",
        "              feature, target = batch\n",
        "              feature, target = feature.to(device), target.to(device)\n",
        "              # for RNN\n",
        "              model.batch_size = target.shape[0]\n",
        "              model.hidden = model.init_hidden()\n",
        "              predictions = model(feature).squeeze(1)\n",
        "\n",
        "            no_observations = no_observations + target.shape[0]\n",
        "            \n",
        "            optimizer.zero_grad()\n",
        "            loss = loss_fn(predictions, target)\n",
        "            \n",
        "            if model.__class__.__name__ == 'ColBERT':\n",
        "              correct, __ = model_performance(np.around(predictions.detach().cpu().numpy()), target.detach().cpu().numpy())\n",
        "            else:\n",
        "              correct, __ = model_performance(np.argmax(predictions.detach().cpu().numpy(), axis=1), target.detach().cpu().numpy())\n",
        "\n",
        "            loss.backward()\n",
        "            optimizer.step()\n",
        "\n",
        "            epoch_loss += loss.item()*target.shape[0]\n",
        "            epoch_correct += correct\n",
        "\n",
        "        valid_loss, valid_acc, __, __ = eval(dev_iter, model)\n",
        "\n",
        "        epoch_loss, epoch_acc = epoch_loss / no_observations, epoch_correct / no_observations\n",
        "        \n",
        "        print(f'| Epoch: {epoch:02} | Train Loss: {epoch_loss:.2f} | Train Accuracy: {epoch_acc:.2f} | \\\n",
        "        Val. Loss: {valid_loss:.2f} | Val. Accuracy: {valid_acc:.2f} |')\n",
        "\n",
        "        log['epoch_acc'].append(epoch_acc)\n",
        "        log['valid_acc'].append(valid_acc)\n",
        "    return log"
      ],
      "execution_count": 8,
      "outputs": []
    },
    {
      "cell_type": "code",
      "metadata": {
        "id": "L2MSILUg0Blj"
      },
      "source": [
        "# We evaluate performance on our dev set\n",
        "def eval(data_iter, model):\n",
        "    \"\"\"\n",
        "    Evaluating model performance on the dev set\n",
        "    \"\"\"\n",
        "    model.eval()\n",
        "    epoch_loss = 0\n",
        "    epoch_correct = 0\n",
        "    pred_all = []\n",
        "    trg_all = []\n",
        "    no_observations = 0\n",
        "\n",
        "    with torch.no_grad():\n",
        "        for batch in data_iter:\n",
        "\n",
        "            if model.__class__.__name__ == 'ColBERT':\n",
        "\n",
        "              input_ids1, attention_mask1, input_ids2, attention_mask2, target = batch\n",
        "              target =  target.type(torch.FloatTensor)\n",
        "              input_ids1, attention_mask1, input_ids2, attention_mask2, target = input_ids1.to(device), attention_mask1.to(device), input_ids2.to(device), attention_mask2.to(device), target.to(device)\n",
        "              input_ids1 = input_ids1.squeeze(1)\n",
        "              attention_mask1 = attention_mask1.squeeze(1)\n",
        "              input_ids2 = input_ids2.squeeze(1)\n",
        "              attention_mask2 = attention_mask2.squeeze(1)\n",
        "\n",
        "              predictions = model(input_ids1, attention_mask1, input_ids2, attention_mask2).squeeze(1)\n",
        "\n",
        "            elif model.__class__.__name__ == 'BiLSTM_Attention':\n",
        "              X1, X2, target = batch\n",
        "              #target = target.type(torch.FloatTensor)\n",
        "              X1, X2, target = X1.to(device), X2.to(device), target.to(device)\n",
        "              model.batch_size = target.shape[0]\n",
        "              predictions = model(X1, X2).squeeze(1)\n",
        "          \n",
        "            else:\n",
        "              # predictions if model is not BERT\n",
        "              feature, target = batch\n",
        "              feature, target = feature.to(device), target.to(device)\n",
        "              model.hidden = model.init_hidden()\n",
        "              # for RNN:\n",
        "              model.batch_size = target.shape[0]\n",
        "              model.hidden = model.init_hidden()\n",
        "              predictions = model(feature).squeeze(1)\n",
        "\n",
        "            no_observations = no_observations + target.shape[0]\n",
        "            loss = loss_fn(predictions, target)\n",
        "\n",
        "            # We get the mse\n",
        "            pred, trg = np.around(predictions.detach().cpu().numpy()), target.detach().cpu().numpy()\n",
        "            if model.__class__.__name__ == 'ColBERT':\n",
        "              correct, __ = model_performance(pred, trg)\n",
        "            else:\n",
        "              correct, __ = model_performance(np.argmax(pred, axis=1), trg)\n",
        "\n",
        "            epoch_loss += loss.item()*target.shape[0]\n",
        "            epoch_correct += correct\n",
        "            pred_all.extend(pred)\n",
        "            trg_all.extend(trg)\n",
        "\n",
        "    return epoch_loss/no_observations, epoch_correct/no_observations, np.array(pred_all), np.array(trg_all)"
      ],
      "execution_count": 9,
      "outputs": []
    },
    {
      "cell_type": "code",
      "metadata": {
        "id": "aA03cmyL0Blk"
      },
      "source": [
        "# How we print the model performance\n",
        "def model_performance(output, target, print_output=False):\n",
        "    \"\"\"\n",
        "    Returns accuracy per batch, i.e. if you get 8/10 right, this returns 0.8, NOT 8\n",
        "    \"\"\"\n",
        "\n",
        "    correct_answers = (output == target)\n",
        "    correct = sum(correct_answers)\n",
        "    acc = np.true_divide(correct,len(output))\n",
        "\n",
        "    if print_output:\n",
        "        print(f'| Acc: {acc:.2f} ')\n",
        "\n",
        "    return correct, acc"
      ],
      "execution_count": 10,
      "outputs": []
    },
    {
      "cell_type": "code",
      "metadata": {
        "id": "wDQvwoea0Blk"
      },
      "source": [
        "# To create our vocab\n",
        "def create_vocab(data):\n",
        "    \"\"\"\n",
        "    Creating a corpus of all the tokens used\n",
        "    \"\"\"\n",
        "    tokenized_corpus = [] # Let us put the tokenized corpus in a list\n",
        "\n",
        "    for sentence in data:\n",
        "\n",
        "        tokenized_sentence = []\n",
        "\n",
        "        for token in sentence.split(' '): # simplest split is\n",
        "\n",
        "            tokenized_sentence.append(token)\n",
        "\n",
        "        tokenized_corpus.append(tokenized_sentence)\n",
        "\n",
        "    # Create single list of all vocabulary\n",
        "    vocabulary = []  # Let us put all the tokens (mostly words) appearing in the vocabulary in a list\n",
        "\n",
        "    for sentence in tokenized_corpus:\n",
        "\n",
        "        for token in sentence:\n",
        "\n",
        "            if token not in vocabulary:\n",
        "\n",
        "                if True:\n",
        "                    vocabulary.append(token)\n",
        "\n",
        "    return vocabulary, tokenized_corpus"
      ],
      "execution_count": 11,
      "outputs": []
    },
    {
      "cell_type": "code",
      "metadata": {
        "id": "w9KJdW440Bll"
      },
      "source": [
        "# Used for collating our observations into minibatches:\n",
        "def collate_fn_padd(batch):\n",
        "    '''\n",
        "    We add padding to our minibatches and create tensors for our model\n",
        "    '''\n",
        "\n",
        "    batch_labels = [l for f1, f2, l in batch]\n",
        "    batch_feature1 = [f1 for f1, f2, l in batch]\n",
        "    batch_feature2 = [f2 for f1, f2, l in batch]\n",
        "    batch_feature1_len = [len(f1) for f1, f2, l in batch]\n",
        "    batch_feature2_len = [len(f2) for f1, f2, l in batch]\n",
        "    max_batch_features_len = max(batch_feature1_len + batch_feature2_len)\n",
        "\n",
        "    seq1_tensor = torch.zeros((len(batch), max_batch_features_len)).long()\n",
        "    seq2_tensor = torch.zeros((len(batch), max_batch_features_len)).long()\n",
        "\n",
        "    for idx, (seq1, seq2, seq1len, seq2len) in \\\n",
        "    enumerate(zip(batch_feature1, batch_feature2, batch_feature1_len, batch_feature2_len)):\n",
        "      seq1_tensor[idx, :seq1len] = torch.LongTensor(seq1)\n",
        "      seq2_tensor[idx, :seq2len] = torch.LongTensor(seq2)\n",
        "\n",
        "    batch_labels = torch.LongTensor(batch_labels)\n",
        "    return seq1_tensor, seq2_tensor, batch_labels\n",
        "\n",
        "# We create a Dataset so we can create minibatches\n",
        "class Task2Dataset(Dataset):\n",
        "\n",
        "    def __init__(self, train_data, labels):\n",
        "        self.x_train = train_data\n",
        "        self.y_train = labels\n",
        "\n",
        "    def __len__(self):\n",
        "        return len(self.y_train)\n",
        "\n",
        "    def __getitem__(self, item):\n",
        "        return self.x_train[item], self.y_train[item]\n",
        "\n",
        "# We create a Dataset specific to BERT\n",
        "class Task2Dataset_BERT(Dataset):\n",
        "\n",
        "    def __init__(self, train1_data, train2_data, labels):\n",
        "        self.x1_train = train1_data\n",
        "        self.x2_train = train2_data\n",
        "        self.y_train = labels\n",
        "\n",
        "    def __len__(self):\n",
        "        return len(self.y_train)\n",
        "\n",
        "    def __getitem__(self, item):\n",
        "        return self.x1_train[item]['input_ids'], self.x1_train[item]['attention_mask'], self.x2_train[item]['input_ids'], self.x2_train[item]['attention_mask'], self.y_train[item]"
      ],
      "execution_count": 12,
      "outputs": []
    },
    {
      "cell_type": "code",
      "metadata": {
        "id": "lsxTQIPAYPwi"
      },
      "source": [
        "# Define the BERT model we will use\n",
        "# We preferred to use the cased one which allows to differentiate between \"trump\" and \"Trump\" (he is very present in this dataset)\n",
        "bert_model = 'bert-base-cased'\n",
        "tokenizer = BertTokenizer.from_pretrained(bert_model)"
      ],
      "execution_count": 13,
      "outputs": []
    },
    {
      "cell_type": "code",
      "metadata": {
        "id": "yOXvatyCYSNl"
      },
      "source": [
        "class ColBERT(BertPreTrainedModel):\n",
        "\n",
        "  def __init__(self, config):\n",
        "    super().__init__(config)\n",
        "\n",
        "    # BERT model\n",
        "    self.bert = BertModel(config)\n",
        "    \n",
        "    # Classification layer\n",
        "    self.final_layer = torch.nn.Sequential(torch.nn.Dropout(0.2),\n",
        "                                           torch.nn.Linear(config.hidden_size , 1),\n",
        "                                           torch.nn.Sigmoid())\n",
        "    \n",
        "  def forward(\n",
        "    self,\n",
        "    input_ids1=None,\n",
        "    attention_mask1=None,\n",
        "    input_ids2=None,\n",
        "    attention_mask2=None):\n",
        " \n",
        "    outputs1 = self.bert(\n",
        "        input_ids1,\n",
        "        attention_mask=attention_mask1)\n",
        "    \n",
        "    outputs2 = self.bert(\n",
        "        input_ids2,\n",
        "        attention_mask=attention_mask2\n",
        "    )\n",
        "\n",
        "    diff = outputs1[1] - outputs2[1]\n",
        "\n",
        "    # outputs = torch.cat((outputs1[1], outputs2[1], abs), 1)\n",
        "\n",
        "    out = self.final_layer(diff)\n",
        "    \n",
        "    return out"
      ],
      "execution_count": 14,
      "outputs": []
    },
    {
      "cell_type": "code",
      "metadata": {
        "id": "B1JodU55YT2C"
      },
      "source": [
        "import re\n",
        "\n",
        "def replace_word(sentence, new_word):\n",
        "  search = re.search(\"<(.*)/>\", sentence)\n",
        "  word_to_replace = \"<\" + search.group(1) + \"/>\"\n",
        "  # sentence = sentence.replace(word_to_replace,  new_word)\n",
        "  sentence = sentence.replace(word_to_replace, new_word)\n",
        "  return sentence"
      ],
      "execution_count": 15,
      "outputs": []
    },
    {
      "cell_type": "code",
      "metadata": {
        "id": "seNAk_bKYVmu"
      },
      "source": [
        "def replace_word_dataset(sentence_dataset, word_dataset):\n",
        "  new_dataset = []\n",
        "  for i in range (len(sentence_dataset)):\n",
        "    new_sentence = replace_word(sentence_dataset[i], word_dataset[i])\n",
        "    new_dataset.append(new_sentence)\n",
        "  return new_dataset"
      ],
      "execution_count": 16,
      "outputs": []
    },
    {
      "cell_type": "code",
      "metadata": {
        "id": "F7TvO3P2Ygec"
      },
      "source": [
        "# Returns inputs_id and attention_mask for each sentence of the dataset\n",
        "def tokenized_dataset(dataset):\n",
        "  tokenized = []\n",
        "  for i in range(len(dataset)):\n",
        "    encoding = tokenizer.encode_plus(dataset[i], max_length=73, return_token_type_ids=False, pad_to_max_length=True, return_attention_mask=True, return_tensors='pt')\n",
        "    tokenized.append(encoding)\n",
        "  return tokenized"
      ],
      "execution_count": 17,
      "outputs": []
    },
    {
      "cell_type": "code",
      "metadata": {
        "id": "vB4vk-T2WV1S"
      },
      "source": [
        "# Split into training and evaluation dataset\n",
        "def get_train_and_eval(tokenized_training1, tokenized_training2, train_examples):\n",
        "  train_index = random.sample(range(0, len(train_df['label'].values)), train_examples)\n",
        "  train_tokenized_training1 = []\n",
        "  train_tokenized_training2 = []\n",
        "  train_labels = []\n",
        "\n",
        "  eval_tokenized_training1 = []\n",
        "  eval_tokenized_training2 = []\n",
        "  eval_labels = []\n",
        "\n",
        "  for i in range(len(train_df['label'].values)):\n",
        "    if i in train_index:\n",
        "      train_tokenized_training1.append(tokenized_training1[i])\n",
        "      train_tokenized_training2.append(tokenized_training2[i])\n",
        "      train_labels.append(train_df['label'].values[i])\n",
        "    else:\n",
        "      eval_tokenized_training1.append(tokenized_training1[i])\n",
        "      eval_tokenized_training2.append(tokenized_training2[i])\n",
        "      eval_labels.append(train_df['label'].values[i])\n",
        "  \n",
        "  return train_tokenized_training1, train_tokenized_training2, train_labels, eval_tokenized_training1, eval_tokenized_training2, eval_labels"
      ],
      "execution_count": 18,
      "outputs": []
    },
    {
      "cell_type": "code",
      "metadata": {
        "id": "rEVd27eSPcM9"
      },
      "source": [
        "# Returns couple of sentences with both ordering (sentence1, sentence2) and (sentence2, sentence1) with the correct label\n",
        "def get_dataset_and_inverse(labels, tokenized_training1, tokenized_training2):\n",
        "  inverse_labels = []\n",
        "  for label in labels:\n",
        "    if label == 0:\n",
        "      inverse_labels.append(1)\n",
        "    elif label == 1:\n",
        "      inverse_labels.append(0)\n",
        "  total_labels = [*labels, *inverse_labels]\n",
        "  left_tokenized = [*tokenized_training1, *tokenized_training2]\n",
        "  right_tokenized = [*tokenized_training2, *tokenized_training1]\n",
        "  return total_labels, left_tokenized, right_tokenized"
      ],
      "execution_count": 19,
      "outputs": []
    },
    {
      "cell_type": "code",
      "metadata": {
        "id": "9h2J_mRkYdXq"
      },
      "source": [
        "# We set our training data and test data\n",
        "\n",
        "training_data1 = train_df['original1'].values\n",
        "training_edit1 = train_df['edit1'].values\n",
        "val_data1 = val_df['original1'].values\n",
        "val_edit1 = val_df['edit1'].values\n",
        "test_data1 = test_df['original1'].values\n",
        "test_edit1 = test_df['edit1'].values\n",
        "\n",
        "training_data2 = train_df['original2'].values\n",
        "training_edit2 = train_df['edit2'].values\n",
        "val_data2 = val_df['original2'].values\n",
        "val_edit2 = val_df['edit2'].values\n",
        "test_data2 = test_df['original2'].values\n",
        "test_edit2 = test_df['edit2'].values\n",
        "\n",
        "\n",
        "# We replace with the editted word\n",
        "edit_training_data1 = replace_word_dataset(training_data1, training_edit1)\n",
        "edit_val_data1 = replace_word_dataset(val_data1, val_edit1)\n",
        "edit_test_data1 = replace_word_dataset(test_data1, test_edit1)\n",
        "edit_training_data2 = replace_word_dataset(training_data2, training_edit2)\n",
        "edit_val_data2 = replace_word_dataset(val_data2, val_edit2)\n",
        "edit_test_data2 = replace_word_dataset(test_data2, test_edit2)"
      ],
      "execution_count": 20,
      "outputs": []
    },
    {
      "cell_type": "code",
      "metadata": {
        "colab": {
          "base_uri": "https://localhost:8080/"
        },
        "id": "ZbVNuO7wEw9P",
        "outputId": "90e927af-845d-48bf-c420-28833319edf6"
      },
      "source": [
        "# Tokenize dataset with BERT tokenizer\n",
        "tokenized_training1 = tokenized_dataset(edit_training_data1)\n",
        "tokenized_training2 = tokenized_dataset(edit_training_data2)\n",
        "\n",
        "# Splint dataset into train and eval\n",
        "nb_train_examples = round(len(train_df['label'].values)*train_proportion)\n",
        "train_tokenized_training1, train_tokenized_training2, train_labels, eval_tokenized_training1, eval_tokenized_training2, eval_labels = get_train_and_eval(tokenized_training1, tokenized_training2, nb_train_examples)\n",
        "\n",
        "# Get datasets in both orders\n",
        "train_total_labels, train_left_tokenized, train_right_tokenized = get_dataset_and_inverse(train_labels, train_tokenized_training1, train_tokenized_training2)\n",
        "eval_total_labels, eval_left_tokenized, eval_right_tokenized = get_dataset_and_inverse(eval_labels, eval_tokenized_training1, eval_tokenized_training2)\n",
        "\n",
        "# Convert set to Dataset\n",
        "train_dataset = Task2Dataset_BERT(train_left_tokenized, train_right_tokenized, train_total_labels)\n",
        "dev_dataset = Task2Dataset_BERT(eval_left_tokenized, eval_right_tokenized, eval_total_labels)"
      ],
      "execution_count": 21,
      "outputs": [
        {
          "output_type": "stream",
          "text": [
            "Truncation was not explicitly activated but `max_length` is provided a specific value, please use `truncation=True` to explicitly truncate examples to max length. Defaulting to 'longest_first' truncation strategy. If you encode pairs of sequences (GLUE-style) with the tokenizer you can select this strategy more precisely by providing a specific strategy to `truncation`.\n",
            "/usr/local/lib/python3.7/dist-packages/transformers/tokenization_utils_base.py:2155: FutureWarning: The `pad_to_max_length` argument is deprecated and will be removed in a future version, use `padding=True` or `padding='longest'` to pad to the longest sequence in the batch, or use `padding='max_length'` to pad to a max length. In this case, you can give a specific length with `max_length` (e.g. `max_length=45`) or leave max_length to None to pad to the maximal input size of the model (e.g. 512 for Bert).\n",
            "  FutureWarning,\n"
          ],
          "name": "stderr"
        }
      ]
    },
    {
      "cell_type": "code",
      "metadata": {
        "colab": {
          "base_uri": "https://localhost:8080/"
        },
        "id": "3PZYmvfZd-kM",
        "outputId": "db9f7420-4698-4804-f67f-b71ac38fd101"
      },
      "source": [
        "# Tokenize dataset with BERT tokenizer\n",
        "tokenized_val1 = tokenized_dataset(edit_val_data1)\n",
        "tokenized_val2 = tokenized_dataset(edit_val_data2)\n",
        "\n",
        "# Get datasets in both orders\n",
        "val_total_labels, val_left_tokenized, val_right_tokenized = get_dataset_and_inverse(val_df['label'].values, tokenized_val1, tokenized_val2)\n",
        "\n",
        "# Convert set to Dataset\n",
        "val_dataset = Task2Dataset_BERT(val_left_tokenized, val_right_tokenized, val_total_labels)"
      ],
      "execution_count": 22,
      "outputs": [
        {
          "output_type": "stream",
          "text": [
            "/usr/local/lib/python3.7/dist-packages/transformers/tokenization_utils_base.py:2155: FutureWarning: The `pad_to_max_length` argument is deprecated and will be removed in a future version, use `padding=True` or `padding='longest'` to pad to the longest sequence in the batch, or use `padding='max_length'` to pad to a max length. In this case, you can give a specific length with `max_length` (e.g. `max_length=45`) or leave max_length to None to pad to the maximal input size of the model (e.g. 512 for Bert).\n",
            "  FutureWarning,\n"
          ],
          "name": "stderr"
        }
      ]
    },
    {
      "cell_type": "code",
      "metadata": {
        "id": "fi8lKpyKfYsQ"
      },
      "source": [
        "# These hyperparameter values are those recommended\n",
        "epochs = 10\n",
        "\n",
        "config = {\n",
        "    \"batch_size\": [32, 64],\n",
        "    \"lr\": [1e-5, 2e-5, 5e-5]\n",
        "}\n",
        "\n",
        "loss_fn = nn.BCELoss()\n",
        "loss_fn = loss_fn.to(device)\n",
        "\n",
        "def hyperparameter_tuning(config):\n",
        "\n",
        "    for batch_size in config['batch_size']:\n",
        "      for lr in config['lr']:\n",
        "        print('Trying with batch size = ' + str(batch_size) + ' and learning rate = ' + str(lr))\n",
        "\n",
        "        model = ColBERT.from_pretrained(bert_model)\n",
        "        model.to(device)\n",
        "\n",
        "        optimizer = torch.optim.AdamW(model.parameters(), lr=lr)\n",
        "\n",
        "        train_loader = torch.utils.data.DataLoader(train_dataset, shuffle=True, batch_size=batch_size)\n",
        "        dev_loader = torch.utils.data.DataLoader(dev_dataset, batch_size=batch_size)\n",
        "\n",
        "        train(train_loader, dev_loader, model, epochs, optimizer)\n",
        "\n",
        "    \n",
        "    print(\"Hyperparameter tuning done\")\n",
        "    return\n",
        "\n",
        "# Uncomment to perform hyperparameter research\n",
        "  \n",
        "# hyperparameter_tuning(config)"
      ],
      "execution_count": 23,
      "outputs": []
    },
    {
      "cell_type": "code",
      "metadata": {
        "id": "8xIy9baag6lb",
        "colab": {
          "base_uri": "https://localhost:8080/",
          "height": 396,
          "referenced_widgets": [
            "8ac0c944e4e543d1b01a37fa2af1ae38",
            "aa4746520b0c4d4d8706fb2ade2ca2be",
            "2bde9d8a8b0446fc97db81c9b32e0a1f",
            "939fe0f1bfc84b7ca4f74880fc8d09de",
            "529590baab1f4d9fa048db9de6e0f659",
            "75ef15063549455d95b6276e5af9f8ee",
            "62b72c8ff0244fbbabfdf2cc882b1a50",
            "8890fb6fcd9744dcb22462fd1702e36c",
            "36ca361be6d247a688bd8bf31931481e",
            "991b982d57b5492b94f752716647b8ab",
            "1040f27693ff41998e203827ab8b22df",
            "d296620b626e4daa83680af7a8be7209",
            "9f9d65b3247a4d679babc3de0b558234",
            "815985d183554563acc7450770cee264",
            "117c271bccc44262aea6f15c7589a7a5",
            "b48179d18df34155be4cd6049d7b560e"
          ]
        },
        "outputId": "687229ae-3b7b-4f7f-9912-f408b403a7bf"
      },
      "source": [
        "# We initialise BERT model for classification\n",
        "model = ColBERT.from_pretrained(bert_model)\n",
        "model.to(device)\n",
        "print(\"Model initialised.\")\n",
        "\n",
        "# Train on the whole dataset to have the best possible model\n",
        "BATCH_SIZE = 32\n",
        "LEARNING_RATE = 2e-5\n",
        "epochs = 3\n",
        "\n",
        "# Tokenize dataset with BERT tokenizer\n",
        "tokenized_training1 = tokenized_dataset(edit_training_data1)\n",
        "tokenized_training2 = tokenized_dataset(edit_training_data2)\n",
        "\n",
        "# Get datasets in both orders\n",
        "train_total_labels, train_left_tokenized, train_right_tokenized = get_dataset_and_inverse(train_df['label'].values, tokenized_training1, tokenized_training2)\n",
        "\n",
        "# Convert set to Dataset\n",
        "train_dataset = Task2Dataset_BERT(train_left_tokenized, train_right_tokenized, train_total_labels)\n",
        "\n",
        "# Create Datatloaders\n",
        "train_loader = torch.utils.data.DataLoader(train_dataset, shuffle=True, batch_size=BATCH_SIZE)\n",
        "val_loader = torch.utils.data.DataLoader(val_dataset, batch_size=BATCH_SIZE)\n",
        "\n",
        "print(\"Dataloaders created.\")\n",
        "\n",
        "loss_fn = nn.BCELoss()\n",
        "loss_fn = loss_fn.to(device)\n",
        "\n",
        "optimizer = torch.optim.AdamW(model.parameters(), lr=LEARNING_RATE)\n",
        "\n",
        "# Train\n",
        "train(train_loader, val_loader, model, epochs, optimizer)"
      ],
      "execution_count": 24,
      "outputs": [
        {
          "output_type": "display_data",
          "data": {
            "application/vnd.jupyter.widget-view+json": {
              "model_id": "8ac0c944e4e543d1b01a37fa2af1ae38",
              "version_minor": 0,
              "version_major": 2
            },
            "text/plain": [
              "HBox(children=(FloatProgress(value=0.0, description='Downloading', max=433.0, style=ProgressStyle(description_…"
            ]
          },
          "metadata": {
            "tags": []
          }
        },
        {
          "output_type": "stream",
          "text": [
            "\n"
          ],
          "name": "stdout"
        },
        {
          "output_type": "display_data",
          "data": {
            "application/vnd.jupyter.widget-view+json": {
              "model_id": "36ca361be6d247a688bd8bf31931481e",
              "version_minor": 0,
              "version_major": 2
            },
            "text/plain": [
              "HBox(children=(FloatProgress(value=0.0, description='Downloading', max=435779157.0, style=ProgressStyle(descri…"
            ]
          },
          "metadata": {
            "tags": []
          }
        },
        {
          "output_type": "stream",
          "text": [
            "\n"
          ],
          "name": "stdout"
        },
        {
          "output_type": "stream",
          "text": [
            "Some weights of the model checkpoint at bert-base-cased were not used when initializing ColBERT: ['cls.predictions.bias', 'cls.predictions.transform.dense.weight', 'cls.predictions.transform.dense.bias', 'cls.predictions.decoder.weight', 'cls.seq_relationship.weight', 'cls.seq_relationship.bias', 'cls.predictions.transform.LayerNorm.weight', 'cls.predictions.transform.LayerNorm.bias']\n",
            "- This IS expected if you are initializing ColBERT from the checkpoint of a model trained on another task or with another architecture (e.g. initializing a BertForSequenceClassification model from a BertForPreTraining model).\n",
            "- This IS NOT expected if you are initializing ColBERT from the checkpoint of a model that you expect to be exactly identical (initializing a BertForSequenceClassification model from a BertForSequenceClassification model).\n",
            "Some weights of ColBERT were not initialized from the model checkpoint at bert-base-cased and are newly initialized: ['final_layer.1.weight', 'final_layer.1.bias']\n",
            "You should probably TRAIN this model on a down-stream task to be able to use it for predictions and inference.\n"
          ],
          "name": "stderr"
        },
        {
          "output_type": "stream",
          "text": [
            "Model initialised.\n"
          ],
          "name": "stdout"
        },
        {
          "output_type": "stream",
          "text": [
            "/usr/local/lib/python3.7/dist-packages/transformers/tokenization_utils_base.py:2155: FutureWarning: The `pad_to_max_length` argument is deprecated and will be removed in a future version, use `padding=True` or `padding='longest'` to pad to the longest sequence in the batch, or use `padding='max_length'` to pad to a max length. In this case, you can give a specific length with `max_length` (e.g. `max_length=45`) or leave max_length to None to pad to the maximal input size of the model (e.g. 512 for Bert).\n",
            "  FutureWarning,\n"
          ],
          "name": "stderr"
        },
        {
          "output_type": "stream",
          "text": [
            "Dataloaders created.\n",
            "Training model.\n",
            "| Epoch: 01 | Train Loss: 0.64 | Train Accuracy: 0.61 |         Val. Loss: 0.68 | Val. Accuracy: 0.60 |\n",
            "| Epoch: 02 | Train Loss: 0.35 | Train Accuracy: 0.84 |         Val. Loss: 0.98 | Val. Accuracy: 0.59 |\n",
            "| Epoch: 03 | Train Loss: 0.16 | Train Accuracy: 0.94 |         Val. Loss: 1.34 | Val. Accuracy: 0.60 |\n"
          ],
          "name": "stdout"
        },
        {
          "output_type": "execute_result",
          "data": {
            "text/plain": [
              "{'epoch_acc': [0.6125626342161775, 0.8391791935099022, 0.9363517060367454],\n",
              " 'valid_acc': [0.6005240590757503, 0.5929013816102906, 0.5959980943306337]}"
            ]
          },
          "metadata": {
            "tags": []
          },
          "execution_count": 24
        }
      ]
    },
    {
      "cell_type": "code",
      "metadata": {
        "id": "_AlbtrEQrCv8",
        "colab": {
          "base_uri": "https://localhost:8080/"
        },
        "outputId": "6e2dda6c-9ddd-41be-d435-2b5fb737873d"
      },
      "source": [
        "tokenized_test1 = tokenized_dataset(edit_test_data1)\n",
        "tokenized_test2 = tokenized_dataset(edit_test_data2)\n",
        "fake_labels = [1] * len(tokenized_test1)\n",
        "\n",
        "test_dataset = Task2Dataset_BERT(tokenized_test1, tokenized_test2, fake_labels)\n",
        "test_loader = torch.utils.data.DataLoader(test_dataset, batch_size=BATCH_SIZE)\n",
        "\n",
        "def create_submission_file(test_loader):\n",
        "    # Get results\n",
        "    results  = np.array([])\n",
        "    for batch in test_loader:\n",
        "      input_ids1, attention_mask1, input_ids2, attention_mask2, target = batch\n",
        "      input_ids1, attention_mask1, input_ids2, attention_mask2, target = input_ids1.to(device), attention_mask1.to(device), input_ids2.to(device), attention_mask2.to(device), target.to(device)\n",
        "      input_ids1 = input_ids1.squeeze(1)\n",
        "      attention_mask1 = attention_mask1.squeeze(1)\n",
        "      input_ids2 = input_ids2.squeeze(1)\n",
        "      attention_mask2 = attention_mask2.squeeze(1)\n",
        "      batch_results = model(input_ids1, attention_mask1, input_ids2, attention_mask2).squeeze(1)\n",
        "      batch_results = np.around(batch_results.detach().cpu().numpy())\n",
        "      results = np.concatenate((results, batch_results))\n",
        "\n",
        "    #Create data\n",
        "    ids = test_df['id']\n",
        "    results = results + 1\n",
        "    results = results.astype(int)\n",
        "\n",
        "    data = {'id': ids, \n",
        "            'pred': results}\n",
        "    df = pd.DataFrame(data, columns=['id', 'pred'])\n",
        "\n",
        "    #Export data to csv\n",
        "    compression_opts = dict(method='zip',archive_name='task-2-output.csv') \n",
        "    df.to_csv('task-2-output.zip', index=False, compression=compression_opts)\n",
        "    return\n",
        "\n",
        "create_submission_file(test_loader)"
      ],
      "execution_count": 25,
      "outputs": [
        {
          "output_type": "stream",
          "text": [
            "/usr/local/lib/python3.7/dist-packages/transformers/tokenization_utils_base.py:2155: FutureWarning: The `pad_to_max_length` argument is deprecated and will be removed in a future version, use `padding=True` or `padding='longest'` to pad to the longest sequence in the batch, or use `padding='max_length'` to pad to a max length. In this case, you can give a specific length with `max_length` (e.g. `max_length=45`) or leave max_length to None to pad to the maximal input size of the model (e.g. 512 for Bert).\n",
            "  FutureWarning,\n"
          ],
          "name": "stderr"
        }
      ]
    },
    {
      "cell_type": "markdown",
      "metadata": {
        "id": "oatMnFeB0Bln"
      },
      "source": [
        "#### Approach 2: No pre-trained representations"
      ]
    },
    {
      "cell_type": "code",
      "metadata": {
        "id": "I2LBdiP5I7mn"
      },
      "source": [
        "# We set our training data and test data\n",
        "training_data1 = train_df['original1'].values\n",
        "training_edit1 = train_df['edit1'].values\n",
        "val_data1 = val_df['original1'].values\n",
        "val_edit1 = val_df['edit1'].values\n",
        "test_data1 = test_df['original1'].values\n",
        "test_edit1 = test_df['edit1'].values\n",
        "\n",
        "training_data2 = train_df['original2'].values\n",
        "training_edit2 = train_df['edit2'].values\n",
        "val_data2 = val_df['original2'].values\n",
        "val_edit2 = val_df['edit2'].values\n",
        "test_data2 = test_df['original2'].values\n",
        "test_edit2 = test_df['edit2'].values\n",
        "\n",
        "# We replace with the editted word\n",
        "edit_train1 = replace_word_dataset(training_data1, training_edit1)\n",
        "edit_val1 = replace_word_dataset(val_data1, val_edit1)\n",
        "edit_test1 = replace_word_dataset(test_data1, test_edit1)\n",
        "edit_train2 = replace_word_dataset(training_data2, training_edit2)\n",
        "edit_val2 = replace_word_dataset(val_data2, val_edit2)\n",
        "edit_test2 = replace_word_dataset(test_data2, test_edit2)"
      ],
      "execution_count": 26,
      "outputs": []
    },
    {
      "cell_type": "code",
      "metadata": {
        "id": "2-MO1xrjI8aU"
      },
      "source": [
        "# We create a corpus with all the edited sentences and without duplicates\n",
        "corpus = [*edit_train1, *edit_val1, *edit_test1, *edit_train2, *edit_val2, *edit_test2]\n",
        "corpus_without_duplicates = list(dict.fromkeys(corpus))"
      ],
      "execution_count": 27,
      "outputs": []
    },
    {
      "cell_type": "code",
      "metadata": {
        "id": "eEfdGne-g6Dt"
      },
      "source": [
        "class Vocabulary(object):\n",
        "  \"\"\"Data structure representing the vocabulary of a corpus.\"\"\"\n",
        "  def __init__(self, window_size=2):\n",
        "    self.window_size = window_size\n",
        "\n",
        "    # Mapping from tokens to integers\n",
        "    self._word2idx = {}\n",
        "\n",
        "    # Reverse-mapping from integers to tokens\n",
        "    self.idx2word = []\n",
        "\n",
        "    # Pairs of words according to the window size\n",
        "    self.idx_pairs = []\n",
        "\n",
        "    # 0-padding token\n",
        "    # TO: keep or remove\n",
        "    self.add_word('<pad>')\n",
        "    # sentence start\n",
        "    # TO: keep or remove\n",
        "    self.add_word('<s>')\n",
        "    # sentence end\n",
        "    # TO: keep or remove\n",
        "    self.add_word('</s>')\n",
        "    # Unknown words\n",
        "    self.add_word('<unk>')\n",
        "    # add separator\n",
        "    self.add_word('<sep>')\n",
        "\n",
        "    self._unk_idx = self._word2idx['<unk>']\n",
        "\n",
        "  def word2idx(self, word):\n",
        "    \"\"\"Returns the integer ID of the word or <unk> if not found.\"\"\"\n",
        "    return self._word2idx.get(word, self._unk_idx)\n",
        "\n",
        "  def add_word(self, word):\n",
        "    \"\"\"Adds the `word` into the vocabulary.\"\"\"\n",
        "    if word not in self._word2idx:\n",
        "      self.idx2word.append(word)\n",
        "      self._word2idx[word] = len(self.idx2word) - 1\n",
        "\n",
        "  def build_from_file(self, corpus):\n",
        "    \"\"\"Builds a vocabulary from a given corpus file.\"\"\"\n",
        "    for sentence in corpus:\n",
        "      words = sentence.strip().split()\n",
        "      for word in words:\n",
        "        self.add_word(word)\n",
        "  \n",
        "  def get_idx_pairs(self, sentence, id):\n",
        "    idx_pairs = []\n",
        "    for w in range(-self.window_size, self.window_size+1):\n",
        "      id_context_word = id + w\n",
        "      if w < 0 or w >= len(sentence) or w == id:\n",
        "        continue\n",
        "      idx_pairs.append(self.convert_words_to_idxs([sentence[id], sentence[w]]))\n",
        "    return idx_pairs\n",
        "  \n",
        "  def build_idx_pairs(self, corpus):\n",
        "    \"\"\"Builds the pair of idx from a given corpus file.\"\"\"\n",
        "    for sentence in corpus:\n",
        "      words = sentence.strip().split()\n",
        "      for id in range(0, len(words)):\n",
        "        new_idx_pairs = self.get_idx_pairs(words, id)\n",
        "      self.idx_pairs += new_idx_pairs\n",
        "    return\n",
        "\n",
        "  def convert_idxs_to_words(self, idxs):\n",
        "    \"\"\"Converts a list of indices to words.\"\"\"\n",
        "    return ' '.join(self.idx2word[idx] for idx in idxs)\n",
        "\n",
        "  def convert_words_to_idxs(self, words):\n",
        "    \"\"\"Converts a list of words to a list of indices.\"\"\"\n",
        "    return [self.word2idx(w) for w in words]\n",
        "\n",
        "  def __len__(self):\n",
        "    \"\"\"Returns the size of the vocabulary.\"\"\"\n",
        "    return len(self.idx2word)\n",
        "  \n",
        "  def __repr__(self):\n",
        "    return \"Vocabulary with {} items\".format(self.__len__())"
      ],
      "execution_count": 28,
      "outputs": []
    },
    {
      "cell_type": "code",
      "metadata": {
        "id": "xzRw18yOg6GR"
      },
      "source": [
        "# Create vocabulary base on our corpus\n",
        "vocab = Vocabulary(window_size=2)\n",
        "vocab.build_from_file(corpus_without_duplicates)\n",
        "vocab.build_idx_pairs(corpus_without_duplicates)"
      ],
      "execution_count": 29,
      "outputs": []
    },
    {
      "cell_type": "code",
      "metadata": {
        "id": "V9XtfdMa6YDN"
      },
      "source": [
        "# Parameters\n",
        "vocabulary_size = len(vocab)\n",
        "embedding_dims = 10\n",
        "num_epochs = 10\n",
        "learning_rate = 0.001\n",
        "nb_words_to_sample = 5\n",
        "\n",
        "# Matrices\n",
        "W1 = torch.randn(embedding_dims, vocabulary_size, requires_grad=True, device=device)\n",
        "W2 = torch.randn(embedding_dims, vocabulary_size, requires_grad=True, device=device)"
      ],
      "execution_count": 30,
      "outputs": []
    },
    {
      "cell_type": "code",
      "metadata": {
        "id": "y4HbyWVO7KGb"
      },
      "source": [
        "# Uncomment to train word embeddings on corpus\n",
        "\n",
        "# Compute word embeddings with negative sampling\n",
        "\n",
        "# from torch.autograd import Variable\n",
        "# import torch.nn.functional as F\n",
        "\n",
        "# for epoch in range(num_epochs):\n",
        "#   epoch_loss = 0\n",
        "#   percentage = 0\n",
        "#   count = 0\n",
        "#   for data, target in vocab.idx_pairs:\n",
        "\n",
        "#       count += 1\n",
        "#       if round(count/len(vocab.idx_pairs)*100) > percentage:\n",
        "#         percentage = round(count/len(vocab.idx_pairs)*100)\n",
        "#         print(str(percentage) + '% of epoch ' + str(epoch))\n",
        "        \n",
        "#       x_var = Variable(one_hot_encoder(data)).float().to(device)\n",
        "#       y_pos_var = Variable(one_hot_encoder(target)).float().to(device)\n",
        "\n",
        "#       neg_sample = np.random.choice(list(range(vocabulary_size)), size=(nb_words_to_sample))\n",
        "#       y_neg = []\n",
        "#       for id_neg_sample in neg_sample:\n",
        "#         word = vocab.idx2word[id_neg_sample]\n",
        "#         y_neg.append(one_hot_encoder(word).numpy())\n",
        "#       y_neg = torch.tensor(y_neg)\n",
        "#       y_neg_var = Variable(y_neg).float().to(device)\n",
        "\n",
        "#       x_emb = torch.matmul(W1, x_var) \n",
        "#       y_pos_emb = torch.matmul(W2, y_pos_var)\n",
        "#       y_neg_emb = torch.matmul(W2, y_neg_var.transpose(0,1))\n",
        "\n",
        "#       # get positive sample score\n",
        "#       pos_loss = F.logsigmoid(torch.matmul(x_emb, y_pos_emb))\n",
        "        \n",
        "#       # get negsample score\n",
        "#       neg_loss = F.logsigmoid(-1 * torch.matmul(x_emb, y_neg_emb))\n",
        "#       exp_neg_loss = torch.mean(neg_loss)\n",
        "        \n",
        "#       loss = - (pos_loss + nb_words_to_sample * exp_neg_loss)\n",
        "#       epoch_loss += loss.item()\n",
        "        \n",
        "#       # propagate the error\n",
        "#       loss.backward()\n",
        "        \n",
        "#       # gradient descent\n",
        "#       W1.data -= learning_rate * W1.grad.data\n",
        "#       W2.data -= learning_rate * W2.grad.data\n",
        "\n",
        "#       # zero out gradient accumulation\n",
        "#       W1.grad.data.zero_()\n",
        "#       W2.grad.data.zero_()\n",
        "        \n",
        "#   print(f'Loss at epo {epoch}: {epoch_loss/len(vocab.idx_pairs)}')\n"
      ],
      "execution_count": 31,
      "outputs": []
    },
    {
      "cell_type": "code",
      "metadata": {
        "id": "V0ZolbX8Jh27"
      },
      "source": [
        "# Get a clean dataset"
      ],
      "execution_count": 32,
      "outputs": []
    },
    {
      "cell_type": "code",
      "metadata": {
        "id": "WwLAaqMbK1Wg"
      },
      "source": [
        "def concat_datasets(dataset1, dataset2):\n",
        "  concat_dataset = []\n",
        "  for i in range (len(dataset1)):\n",
        "    new_sentence = dataset1[i] + \" <sep> \" + dataset2[i]\n",
        "    # concat_dataset.append(new_sentence)\n",
        "    concat_dataset.append(new_sentence.lower())\n",
        "  return pd.Series(concat_dataset)"
      ],
      "execution_count": 33,
      "outputs": []
    },
    {
      "cell_type": "code",
      "metadata": {
        "id": "3c7h1AugMAJT"
      },
      "source": [
        "def tokenized_corpus(concat_dataset):\n",
        "  tokenized_corpus = []\n",
        "  for sentence in concat_dataset:\n",
        "    tokenized_sentence = []\n",
        "    for token in sentence.split(' '):\n",
        "      tokenized_sentence.append(token)\n",
        "    tokenized_corpus.append(tokenized_sentence)\n",
        "  return tokenized_corpus"
      ],
      "execution_count": 34,
      "outputs": []
    },
    {
      "cell_type": "code",
      "metadata": {
        "id": "Qem5ut2Mpv99"
      },
      "source": [
        "def get_vectorized_seq(tokenized_data):\n",
        "  vectorized_seqs = []\n",
        "  for seq in tokenized_data:\n",
        "    # remove_invalid_headline\n",
        "    if len(seq) <= 3: continue\n",
        "    vectorized_seq = []\n",
        "    for tok in seq:\n",
        "        vectorized_seq.append(vocab.word2idx(tok))\n",
        "    vectorized_seqs.append(vectorized_seq)\n",
        "  return vectorized_seqs"
      ],
      "execution_count": 35,
      "outputs": []
    },
    {
      "cell_type": "code",
      "metadata": {
        "colab": {
          "base_uri": "https://localhost:8080/"
        },
        "id": "ZJhIlvUExT1B",
        "outputId": "eae618f2-ad23-48bc-97a5-f6cd08154f15"
      },
      "source": [
        "import nltk\n",
        "nltk.download('stopwords')\n",
        "from nltk.corpus import stopwords\n",
        "stop_words = set(stopwords.words(\"english\"))"
      ],
      "execution_count": 36,
      "outputs": [
        {
          "output_type": "stream",
          "text": [
            "[nltk_data] Downloading package stopwords to /root/nltk_data...\n",
            "[nltk_data]   Package stopwords is already up-to-date!\n"
          ],
          "name": "stdout"
        }
      ]
    },
    {
      "cell_type": "code",
      "metadata": {
        "id": "STHktcOtzfR_"
      },
      "source": [
        "def tokenized_corpus_preprocess(corpus, isTrain=True):\n",
        "  tokenized_corpus_PR = []  # PR = punctuation removed\n",
        "  re_punctuation_string = '[\\s,/.\\'\\\"\\[\\]|#~]'\n",
        "  if isTrain:\n",
        "    for sentence in corpus:\n",
        "      tokenized_sentence_PR = re.split(re_punctuation_string, sentence)\n",
        "      tokenized_sentence_PR = list(filter(None, tokenized_sentence_PR)) # remove empty\n",
        "      tokenized_sentence_PR = list(\n",
        "          filter(lambda x: [word for word in x if word not in stop_words],\n",
        "                tokenized_sentence_PR))\n",
        "      tokenized_corpus_PR.append(tokenized_sentence_PR)\n",
        "  else:\n",
        "    tokenized_corpus_PR = tokenized_corpus(corpus)\n",
        "  \n",
        "  return tokenized_corpus_PR"
      ],
      "execution_count": 37,
      "outputs": []
    },
    {
      "cell_type": "code",
      "metadata": {
        "id": "l34OBwLipiEI"
      },
      "source": [
        "class Task2Dataset_BiLSTM(Dataset):\n",
        "\n",
        "    def __init__(self, train1_data, train2_data, labels):\n",
        "        self.x1_train = train1_data\n",
        "        self.x2_train = train2_data\n",
        "        self.y_train = labels\n",
        "\n",
        "    def __len__(self):\n",
        "        return len(self.y_train)\n",
        "\n",
        "    def __getitem__(self, item):\n",
        "        return self.x1_train[item], self.x2_train[item], self.y_train[item]"
      ],
      "execution_count": 38,
      "outputs": []
    },
    {
      "cell_type": "code",
      "metadata": {
        "id": "khEdFT3CqrG2"
      },
      "source": [
        "# Get tokenized datasets\n",
        "\n",
        "tokenized_train1 = tokenized_corpus(edit_train1)\n",
        "tokenized_train2 = tokenized_corpus(edit_train2)\n",
        "tokenized_val1 = tokenized_corpus(edit_val1)\n",
        "tokenized_val2 = tokenized_corpus(edit_val2)\n",
        "tokenized_test1 = tokenized_corpus(edit_test1)\n",
        "tokenized_test2 = tokenized_corpus(edit_test2)\n",
        "# with preprocessing\n",
        "#tokenized_train1 = tokenized_corpus_preprocess(edit_train1)\n",
        "#tokenized_train2 = tokenized_corpus_preprocess(edit_train2)\n",
        "#tokenized_dev1 = tokenized_corpus_preprocess(edit_val1)\n",
        "#tokenized_dev2 = tokenized_corpus_preprocess(edit_val2)\n",
        "\n",
        "# Get vectorized seq\n",
        "vectorized_train1 = get_vectorized_seq(tokenized_train1)\n",
        "vectorized_train2 = get_vectorized_seq(tokenized_train2)\n",
        "vectorized_dev1 = get_vectorized_seq(tokenized_val1)\n",
        "vectorized_dev2 = get_vectorized_seq(tokenized_val2)\n",
        "vectorized_test1 = get_vectorized_seq(tokenized_test1)\n",
        "vectorized_test2 = get_vectorized_seq(tokenized_test2)"
      ],
      "execution_count": 39,
      "outputs": []
    },
    {
      "cell_type": "code",
      "metadata": {
        "id": "ajqwMTNEE09B"
      },
      "source": [
        "from torch.autograd import Variable\n",
        "class BiLSTM_Attention(torch.nn.Module):\n",
        "    def __init__(self, embedding_dim, hidden_dim, lstm_layers, vocab_size, batch_size):\n",
        "\n",
        "        super(BiLSTM_Attention, self).__init__()\n",
        "        self.hidden_dim = hidden_dim\n",
        "        self.batch_size = batch_size\n",
        "        self.use_gpu = torch.cuda.is_available()\n",
        "        \n",
        "        self.word_embeddings = nn.Embedding(vocab_size, embedding_dim)\n",
        "        #self.word_embeddings.weight = nn.Parameter(opt.embeddings,requires_grad=opt.embedding_training)\n",
        "        #self.word_embeddings.weight.data.copy_(torch.from_numpy(opt.embeddings))\n",
        "  \n",
        "        self.num_layers = lstm_layers\n",
        "        self.label_size = 2\n",
        "        self.num_merging_layers = 3\n",
        "        self.dropout = 0.2\n",
        "        self.bilstm = nn.LSTM(embedding_dim, hidden_dim // 2, batch_first=True,\n",
        "                              num_layers=self.num_layers, dropout=self.dropout, bidirectional=True)\n",
        "        self.hidden2label = nn.Linear(hidden_dim * self.num_merging_layers, self.label_size)\n",
        "        #self.hidden2label = nn.Linear(hidden_dim * self.num_merging_layers, 1)\n",
        "        self.hidden = self.init_hidden() \n",
        "        self.attn_fc = torch.nn.Linear(embedding_dim, 1)\n",
        "\n",
        "    def init_hidden(self,batch_size=None):\n",
        "        if batch_size is None:\n",
        "            batch_size= self.batch_size\n",
        "        if self.use_gpu:\n",
        "            h0 = Variable(torch.zeros(2*self.num_layers, batch_size, self.hidden_dim // 2).cuda())\n",
        "            c0 = Variable(torch.zeros(2*self.num_layers, batch_size, self.hidden_dim // 2).cuda())\n",
        "        else:\n",
        "            h0 = Variable(torch.zeros(2*self.num_layers, batch_size, self.hidden_dim // 2))\n",
        "            c0 = Variable(torch.zeros(2*self.num_layers, batch_size, self.hidden_dim // 2))\n",
        "        return (h0, c0)\n",
        "\n",
        "    def attention(self, rnn_out, state):\n",
        "        merged_state = torch.cat([s for s in state], 1)\n",
        "        merged_state = merged_state.squeeze(0).unsqueeze(2)\n",
        "        # (batch, seq_len, cell_size) * (batch, cell_size, 1) = (batch, seq_len, 1)\n",
        "        weights = torch.bmm(rnn_out, merged_state)\n",
        "        weights = nn.functional.softmax(weights.squeeze(2)).unsqueeze(2)\n",
        "        # (batch, cell_size, seq_len) * (batch, seq_len, 1) = (batch, cell_size, 1)\n",
        "        attn_out = torch.bmm(torch.transpose(rnn_out, 1, 2), weights).squeeze(2)\n",
        "        return attn_out\n",
        "\n",
        "    def forward(self, X1, X2):\n",
        "        embedded1 = self.word_embeddings(X1)\n",
        "        hidden1= self.init_hidden(X1.size()[0])\n",
        "        rnn_out1, hidden1 = self.bilstm(embedded1, hidden1)\n",
        "        h_n1, _ = hidden1\n",
        "        attn_out1 = self.attention(rnn_out1, h_n1)\n",
        "\n",
        "        embedded2 = self.word_embeddings(X2)\n",
        "        hidden2= self.init_hidden(X2.size()[0])\n",
        "        rnn_out2, hidden2 = self.bilstm(embedded2, hidden2)\n",
        "        h_n2, _ = hidden2\n",
        "        attn_out2 = self.attention(rnn_out2, h_n2)\n",
        "\n",
        "        abs_out = torch.abs(attn_out1 - attn_out2)\n",
        "        attn_merged = torch.cat([attn_out1, attn_out2, abs_out], 1)\n",
        "        logits = self.hidden2label(attn_merged)\n",
        "        return logits"
      ],
      "execution_count": 40,
      "outputs": []
    },
    {
      "cell_type": "code",
      "metadata": {
        "id": "tsVKQCbrafA7"
      },
      "source": [
        "# BEST RESULTS\n",
        "learning_rate = 0.000708766153261764\n",
        "BATCH_SIZE = 32\n",
        "EMBEDDING_DIM = 83\n",
        "HIDDEN_DIM = 46\n",
        "INPUT_DIM = vocabulary_size\n",
        "LSTM_LAYERS = 1"
      ],
      "execution_count": 41,
      "outputs": []
    },
    {
      "cell_type": "code",
      "metadata": {
        "colab": {
          "base_uri": "https://localhost:8080/"
        },
        "id": "6fl0o7iIqEcD",
        "outputId": "3aeeaab1-5b4c-4935-edfb-051c09de8fc4"
      },
      "source": [
        "model = BiLSTM_Attention(EMBEDDING_DIM, HIDDEN_DIM, LSTM_LAYERS, INPUT_DIM, BATCH_SIZE)\n",
        "print(\"Model initialised.\")\n",
        "\n",
        "model.to(device)\n",
        "# We provide the model with our embeddings\n",
        "#model.embedding.weight.data.copy_(W1.transpose(0,1))\n",
        "\n",
        "# 'feature' is a list of lists, each containing embedding IDs for word tokens\n",
        "train_dataset = Task2Dataset_BiLSTM(vectorized_train1, vectorized_train2, train_df['label'].values)\n",
        "dev_dataset = Task2Dataset_BiLSTM(vectorized_dev1, vectorized_dev2, val_df['label'].values)\n",
        "\n",
        "train_loader = torch.utils.data.DataLoader(train_dataset, shuffle=True, batch_size=BATCH_SIZE, collate_fn=collate_fn_padd)\n",
        "dev_loader = torch.utils.data.DataLoader(dev_dataset, batch_size=BATCH_SIZE, collate_fn=collate_fn_padd)\n",
        "\n",
        "print(\"Dataloaders created.\")\n",
        "\n",
        "#loss_fn = nn.BCELoss()\n",
        "loss_fn = nn.CrossEntropyLoss()\n",
        "loss_fn = loss_fn.to(device)\n",
        "\n",
        "optimizer = torch.optim.AdamW(model.parameters(), lr = learning_rate)"
      ],
      "execution_count": 42,
      "outputs": [
        {
          "output_type": "stream",
          "text": [
            "Model initialised.\n",
            "Dataloaders created.\n"
          ],
          "name": "stdout"
        },
        {
          "output_type": "stream",
          "text": [
            "/usr/local/lib/python3.7/dist-packages/torch/nn/modules/rnn.py:61: UserWarning: dropout option adds dropout after all but last recurrent layer, so non-zero dropout expects num_layers greater than 1, but got dropout=0.2 and num_layers=1\n",
            "  \"num_layers={}\".format(dropout, num_layers))\n"
          ],
          "name": "stderr"
        }
      ]
    },
    {
      "cell_type": "code",
      "metadata": {
        "colab": {
          "base_uri": "https://localhost:8080/"
        },
        "id": "TNqQsIASkAz0",
        "outputId": "cfa8471b-ead6-4203-822a-2c560329c3b7"
      },
      "source": [
        "epochs = 20\n",
        "log = train(train_loader, dev_loader, model, epochs, optimizer)"
      ],
      "execution_count": 43,
      "outputs": [
        {
          "output_type": "stream",
          "text": [
            "/usr/local/lib/python3.7/dist-packages/ipykernel_launcher.py:41: UserWarning: Implicit dimension choice for softmax has been deprecated. Change the call to include dim=X as an argument.\n"
          ],
          "name": "stderr"
        },
        {
          "output_type": "stream",
          "text": [
            "Training model.\n",
            "| Epoch: 01 | Train Loss: 0.69 | Train Accuracy: 0.50 |         Val. Loss: 0.69 | Val. Accuracy: 0.51 |\n",
            "| Epoch: 02 | Train Loss: 0.69 | Train Accuracy: 0.56 |         Val. Loss: 0.70 | Val. Accuracy: 0.51 |\n",
            "| Epoch: 03 | Train Loss: 0.66 | Train Accuracy: 0.62 |         Val. Loss: 0.71 | Val. Accuracy: 0.51 |\n",
            "| Epoch: 04 | Train Loss: 0.59 | Train Accuracy: 0.70 |         Val. Loss: 0.74 | Val. Accuracy: 0.51 |\n",
            "| Epoch: 05 | Train Loss: 0.48 | Train Accuracy: 0.78 |         Val. Loss: 0.82 | Val. Accuracy: 0.51 |\n",
            "| Epoch: 06 | Train Loss: 0.36 | Train Accuracy: 0.84 |         Val. Loss: 0.92 | Val. Accuracy: 0.51 |\n",
            "| Epoch: 07 | Train Loss: 0.27 | Train Accuracy: 0.89 |         Val. Loss: 1.05 | Val. Accuracy: 0.52 |\n",
            "| Epoch: 08 | Train Loss: 0.20 | Train Accuracy: 0.93 |         Val. Loss: 1.15 | Val. Accuracy: 0.52 |\n",
            "| Epoch: 09 | Train Loss: 0.14 | Train Accuracy: 0.95 |         Val. Loss: 1.26 | Val. Accuracy: 0.52 |\n",
            "| Epoch: 10 | Train Loss: 0.11 | Train Accuracy: 0.96 |         Val. Loss: 1.38 | Val. Accuracy: 0.53 |\n",
            "| Epoch: 11 | Train Loss: 0.08 | Train Accuracy: 0.97 |         Val. Loss: 1.51 | Val. Accuracy: 0.52 |\n",
            "| Epoch: 12 | Train Loss: 0.06 | Train Accuracy: 0.98 |         Val. Loss: 1.65 | Val. Accuracy: 0.51 |\n",
            "| Epoch: 13 | Train Loss: 0.05 | Train Accuracy: 0.99 |         Val. Loss: 1.77 | Val. Accuracy: 0.51 |\n",
            "| Epoch: 14 | Train Loss: 0.04 | Train Accuracy: 0.99 |         Val. Loss: 1.78 | Val. Accuracy: 0.51 |\n",
            "| Epoch: 15 | Train Loss: 0.03 | Train Accuracy: 0.99 |         Val. Loss: 1.88 | Val. Accuracy: 0.52 |\n",
            "| Epoch: 16 | Train Loss: 0.02 | Train Accuracy: 0.99 |         Val. Loss: 1.99 | Val. Accuracy: 0.52 |\n",
            "| Epoch: 17 | Train Loss: 0.02 | Train Accuracy: 1.00 |         Val. Loss: 2.04 | Val. Accuracy: 0.52 |\n",
            "| Epoch: 18 | Train Loss: 0.02 | Train Accuracy: 1.00 |         Val. Loss: 2.15 | Val. Accuracy: 0.52 |\n",
            "| Epoch: 19 | Train Loss: 0.02 | Train Accuracy: 0.99 |         Val. Loss: 1.92 | Val. Accuracy: 0.52 |\n",
            "| Epoch: 20 | Train Loss: 0.02 | Train Accuracy: 0.99 |         Val. Loss: 2.13 | Val. Accuracy: 0.52 |\n"
          ],
          "name": "stdout"
        }
      ]
    },
    {
      "cell_type": "code",
      "metadata": {
        "id": "oXJoY8-VwwR4",
        "colab": {
          "base_uri": "https://localhost:8080/",
          "height": 296
        },
        "outputId": "6bc7a44d-5867-4fe5-dc1b-9693ff754d48"
      },
      "source": [
        "from matplotlib import pyplot as plt\n",
        "plt.plot(log['epoch_acc'])\n",
        "plt.plot(log['valid_acc'])\n",
        "plt.legend(['training', 'validation'])\n",
        "plt.xlabel('epoch')\n",
        "plt.ylabel('accurracy')"
      ],
      "execution_count": 44,
      "outputs": [
        {
          "output_type": "execute_result",
          "data": {
            "text/plain": [
              "Text(0, 0.5, 'accurracy')"
            ]
          },
          "metadata": {
            "tags": []
          },
          "execution_count": 44
        },
        {
          "output_type": "display_data",
          "data": {
            "image/png": "[encoded data removed]",
            "text/plain": [
              "<Figure size 432x288 with 1 Axes>"
            ]
          },
          "metadata": {
            "tags": [],
            "needs_background": "light"
          }
        }
      ]
    },
    {
      "cell_type": "code",
      "metadata": {
        "id": "f22VNwCtUHEs",
        "colab": {
          "base_uri": "https://localhost:8080/"
        },
        "outputId": "0c8d1124-c744-4fa6-933b-02f4f2a91367"
      },
      "source": [
        "################### added T-C ###################\n",
        "# hyperparameter tuning\n",
        "import os\n",
        "from scipy.stats import loguniform\n",
        "\n",
        "\n",
        "# We define our training loop\n",
        "def train_tune(config, train_dataset=None, dev_dataset=None, num_epochs=20, vocab_size=33234, checkpoint_dir=None, data_dir=None):\n",
        "    \"\"\"\n",
        "    Training loop for the model, which calls on eval to evaluate after each epoch\n",
        "    \"\"\"\n",
        "    LSTM_LAYERS = 1\n",
        "    model = BiLSTM_Attention(config['embedding_dim'], config['hidden_dim'],\n",
        "                             LSTM_LAYERS, vocab_size, config['batch_size'])\n",
        "\n",
        "    device = \"cpu\"\n",
        "    if torch.cuda.is_available():\n",
        "        device = \"cuda:0\"\n",
        "        if torch.cuda.device_count() > 1:\n",
        "            model = nn.DataParallel(model)\n",
        "    model.to(device)\n",
        "\n",
        "    optimizer = torch.optim.AdamW(model.parameters(), lr=config[\"lr\"])\n",
        "    loss_fn = nn.CrossEntropyLoss()\n",
        "    loss_fn = loss_fn.to(device)\n",
        "    if checkpoint_dir:\n",
        "        checkpoint = os.path.join(checkpoint_dir, \"checkpoint\")\n",
        "        model_state, optimizer_state = torch.load(checkpoint)\n",
        "        model.load_state_dict(model_state)\n",
        "        optimizer.load_state_dict(optimizer_state)\n",
        "\n",
        "    train_loader = torch.utils.data.DataLoader(train_dataset, shuffle=True, batch_size=config['batch_size'], collate_fn=collate_fn_padd)\n",
        "    dev_loader = torch.utils.data.DataLoader(dev_dataset, batch_size=config['batch_size'], collate_fn=collate_fn_padd)\n",
        "    print(\"Training model.\")\n",
        "\n",
        "    for epoch in range(1, num_epochs+1):\n",
        "        \n",
        "        model.train()\n",
        "        \n",
        "        epoch_loss = 0\n",
        "        epoch_correct = 0\n",
        "        no_observations = 0  # Observations used for training so far\n",
        "        for i, batch in enumerate(train_loader):\n",
        "            ############################# added T-C #############################\n",
        "            X1, X2, target = batch\n",
        "            X1, X2, target = X1.to(device), X2.to(device), target.to(device)\n",
        "            model.batch_size = target.shape[0]\n",
        "            predictions = model(X1, X2).squeeze(1)\n",
        "            ############################# added T-C #############################\n",
        "            no_observations = no_observations + target.shape[0]\n",
        "            # for RNN:\n",
        "            # model.batch_size = target.shape[0]\n",
        "            \n",
        "            optimizer.zero_grad()\n",
        "            loss = loss_fn(predictions, target)\n",
        "\n",
        "            correct, __ = model_performance(np.argmax(predictions.detach().cpu().numpy(), axis=1), target.detach().cpu().numpy())\n",
        "\n",
        "            loss.backward()\n",
        "            optimizer.step()\n",
        "\n",
        "            epoch_loss += loss.item()*target.shape[0]\n",
        "            epoch_correct += correct\n",
        "            #if i % 1000 == 999:  # print every 2000 mini-batches\n",
        "            #  print(\"[%d, %5d] loss: %.3f\" % (epoch + 1, i + 1,\n",
        "            #                                    epoch_loss / no_observations))\n",
        "\n",
        "        valid_loss, valid_acc, __, __ = eval(dev_loader, model)\n",
        "        #with tune.checkpoint_dir(step=epoch) as checkpoint_dir:\n",
        "        #    path = os.path.join(checkpoint_dir, \"checkpoint\")\n",
        "        #    torch.save((model.state_dict(), optimizer.state_dict()), path)\n",
        "\n",
        "        #tune.report(loss=valid_loss, accuracy=valid_acc)\n",
        "\n",
        "        epoch_loss, epoch_acc = epoch_loss / no_observations, epoch_correct / no_observations\n",
        "        print(f'| Epoch: {epoch:02} | Train Loss: {epoch_loss:.2f} | Train Accuracy: {epoch_acc:.2f} | \\\n",
        "        Val. Loss: {valid_loss:.2f} | Val. Accuracy: {valid_acc:.2f} |')\n",
        "\n",
        "\n",
        "# debug\n",
        "\n",
        "\n",
        "config = {\n",
        "          \"lr\": loguniform.rvs(4e-4, 1e-3),\n",
        "          \"batch_size\": int(np.random.choice([8, 16, 32, 64, 128])),\n",
        "          \"hidden_dim\": np.random.randint(10, 100),\n",
        "          'embedding_dim': np.random.randint(10, 100)\n",
        "}\n",
        "print(config)\n",
        "train_tune(config, train_dataset=train_dataset, dev_dataset=dev_dataset, num_epochs=20, vocab_size=INPUT_DIM)"
      ],
      "execution_count": 48,
      "outputs": [
        {
          "output_type": "stream",
          "text": [
            "{'lr': 0.00045102880088165274, 'batch_size': 16, 'hidden_dim': 42, 'embedding_dim': 54}\n",
            "Training model.\n"
          ],
          "name": "stdout"
        },
        {
          "output_type": "stream",
          "text": [
            "/usr/local/lib/python3.7/dist-packages/torch/nn/modules/rnn.py:61: UserWarning: dropout option adds dropout after all but last recurrent layer, so non-zero dropout expects num_layers greater than 1, but got dropout=0.2 and num_layers=1\n",
            "  \"num_layers={}\".format(dropout, num_layers))\n",
            "/usr/local/lib/python3.7/dist-packages/ipykernel_launcher.py:41: UserWarning: Implicit dimension choice for softmax has been deprecated. Change the call to include dim=X as an argument.\n"
          ],
          "name": "stderr"
        },
        {
          "output_type": "stream",
          "text": [
            "| Epoch: 01 | Train Loss: 0.69 | Train Accuracy: 0.50 |         Val. Loss: 0.69 | Val. Accuracy: 0.51 |\n",
            "| Epoch: 02 | Train Loss: 0.69 | Train Accuracy: 0.53 |         Val. Loss: 0.69 | Val. Accuracy: 0.51 |\n",
            "| Epoch: 03 | Train Loss: 0.68 | Train Accuracy: 0.58 |         Val. Loss: 0.70 | Val. Accuracy: 0.51 |\n",
            "| Epoch: 04 | Train Loss: 0.65 | Train Accuracy: 0.62 |         Val. Loss: 0.71 | Val. Accuracy: 0.52 |\n",
            "| Epoch: 05 | Train Loss: 0.60 | Train Accuracy: 0.68 |         Val. Loss: 0.73 | Val. Accuracy: 0.52 |\n",
            "| Epoch: 06 | Train Loss: 0.55 | Train Accuracy: 0.72 |         Val. Loss: 0.76 | Val. Accuracy: 0.53 |\n",
            "| Epoch: 07 | Train Loss: 0.50 | Train Accuracy: 0.75 |         Val. Loss: 0.77 | Val. Accuracy: 0.54 |\n",
            "| Epoch: 08 | Train Loss: 0.46 | Train Accuracy: 0.78 |         Val. Loss: 0.80 | Val. Accuracy: 0.53 |\n",
            "| Epoch: 09 | Train Loss: 0.41 | Train Accuracy: 0.81 |         Val. Loss: 0.83 | Val. Accuracy: 0.54 |\n",
            "| Epoch: 10 | Train Loss: 0.37 | Train Accuracy: 0.83 |         Val. Loss: 0.85 | Val. Accuracy: 0.54 |\n",
            "| Epoch: 11 | Train Loss: 0.33 | Train Accuracy: 0.86 |         Val. Loss: 0.92 | Val. Accuracy: 0.54 |\n",
            "| Epoch: 12 | Train Loss: 0.28 | Train Accuracy: 0.88 |         Val. Loss: 0.97 | Val. Accuracy: 0.54 |\n",
            "| Epoch: 13 | Train Loss: 0.24 | Train Accuracy: 0.90 |         Val. Loss: 1.03 | Val. Accuracy: 0.54 |\n",
            "| Epoch: 14 | Train Loss: 0.21 | Train Accuracy: 0.92 |         Val. Loss: 1.09 | Val. Accuracy: 0.54 |\n",
            "| Epoch: 15 | Train Loss: 0.17 | Train Accuracy: 0.94 |         Val. Loss: 1.15 | Val. Accuracy: 0.54 |\n",
            "| Epoch: 16 | Train Loss: 0.14 | Train Accuracy: 0.95 |         Val. Loss: 1.23 | Val. Accuracy: 0.54 |\n",
            "| Epoch: 17 | Train Loss: 0.12 | Train Accuracy: 0.96 |         Val. Loss: 1.30 | Val. Accuracy: 0.54 |\n",
            "| Epoch: 18 | Train Loss: 0.10 | Train Accuracy: 0.97 |         Val. Loss: 1.39 | Val. Accuracy: 0.53 |\n",
            "| Epoch: 19 | Train Loss: 0.08 | Train Accuracy: 0.98 |         Val. Loss: 1.46 | Val. Accuracy: 0.53 |\n",
            "| Epoch: 20 | Train Loss: 0.07 | Train Accuracy: 0.98 |         Val. Loss: 1.58 | Val. Accuracy: 0.53 |\n"
          ],
          "name": "stdout"
        }
      ]
    },
    {
      "cell_type": "code",
      "metadata": {
        "id": "0muyf3RWXuK4",
        "colab": {
          "base_uri": "https://localhost:8080/",
          "height": 87
        },
        "outputId": "aa5f614e-acdb-48a9-af7e-77d79dce6fa7"
      },
      "source": [
        "\"\"\" log of hyperparameter search results\n",
        "{'lr': 1.1268996026163215e-05, 'batch_size': 128, 'hidden_dim': 38, 'embedding_dim': 17}\n",
        "val_acc == 0.51\n",
        "{'lr': 1.3969795891901723e-05, 'batch_size': 32, 'hidden_dim': 54, 'embedding_dim': 80}\n",
        "val_acc = 0.51\n",
        "{'lr': 0.0001673823430001329, 'batch_size': 32, 'hidden_dim': 62, 'embedding_dim': 17}\n",
        "val_acc == 0.51\n",
        "{'lr': 0.00017990056847114912, 'batch_size': 64, 'hidden_dim': 24, 'embedding_dim': 88}\n",
        "val_acc == 0.53\n",
        "{'lr': 0.0002036080914977387, 'batch_size': 64, 'hidden_dim': 88, 'embedding_dim': 79}\n",
        "val_acc == 0.53\n",
        "{'lr': 0.0002608033772419257, 'batch_size': 128, 'hidden_dim': 10, 'embedding_dim': 63}\n",
        "val_acc == 0.51\n",
        "{'lr': 0.000799899263008792, 'batch_size': 64, 'hidden_dim': 52, 'embedding_dim': 58}\n",
        "val_acc == 0.51\n",
        "{'lr': 0.0009554815939036779, 'batch_size': 8, 'hidden_dim': 34, 'embedding_dim': 29}\n",
        "val_acc == 0.53\n",
        "\"\"\""
      ],
      "execution_count": 46,
      "outputs": [
        {
          "output_type": "execute_result",
          "data": {
            "application/vnd.google.colaboratory.intrinsic+json": {
              "type": "string"
            },
            "text/plain": [
              "\" log of hyperparameter search results\\n{'lr': 1.1268996026163215e-05, 'batch_size': 128, 'hidden_dim': 38, 'embedding_dim': 17}\\nval_acc == 0.51\\n{'lr': 1.3969795891901723e-05, 'batch_size': 32, 'hidden_dim': 54, 'embedding_dim': 80}\\nval_acc = 0.51\\n{'lr': 0.0001673823430001329, 'batch_size': 32, 'hidden_dim': 62, 'embedding_dim': 17}\\nval_acc == 0.51\\n{'lr': 0.00017990056847114912, 'batch_size': 64, 'hidden_dim': 24, 'embedding_dim': 88}\\nval_acc == 0.53\\n{'lr': 0.0002036080914977387, 'batch_size': 64, 'hidden_dim': 88, 'embedding_dim': 79}\\nval_acc == 0.53\\n{'lr': 0.0002608033772419257, 'batch_size': 128, 'hidden_dim': 10, 'embedding_dim': 63}\\nval_acc == 0.51\\n{'lr': 0.000799899263008792, 'batch_size': 64, 'hidden_dim': 52, 'embedding_dim': 58}\\nval_acc == 0.51\\n{'lr': 0.0009554815939036779, 'batch_size': 8, 'hidden_dim': 34, 'embedding_dim': 29}\\nval_acc == 0.53\\n\""
            ]
          },
          "metadata": {
            "tags": []
          },
          "execution_count": 46
        }
      ]
    },
    {
      "cell_type": "code",
      "metadata": {
        "colab": {
          "base_uri": "https://localhost:8080/"
        },
        "id": "SZ8vsNg0ZziH",
        "outputId": "697ad9be-d825-4b87-baa1-cab37328dc21"
      },
      "source": [
        "# BEST RESULT\n",
        "config = {\n",
        "          \"lr\": loguniform.rvs(1e-4, 1e-3),\n",
        "          \"batch_size\": int(np.random.choice([8, 16, 32, 64, 128])),\n",
        "          \"hidden_dim\": np.random.randint(10, 100),\n",
        "          'embedding_dim': np.random.randint(10, 100)\n",
        "}\n",
        "print(config)\n",
        "train_tune(config, train_dataset=train_dataset, dev_dataset=dev_dataset, num_epochs=20, vocab_size=INPUT_DIM)"
      ],
      "execution_count": 47,
      "outputs": [
        {
          "output_type": "stream",
          "text": [
            "{'lr': 0.0005962474946851952, 'batch_size': 16, 'hidden_dim': 24, 'embedding_dim': 56}\n",
            "Training model.\n"
          ],
          "name": "stdout"
        },
        {
          "output_type": "stream",
          "text": [
            "/usr/local/lib/python3.7/dist-packages/torch/nn/modules/rnn.py:61: UserWarning: dropout option adds dropout after all but last recurrent layer, so non-zero dropout expects num_layers greater than 1, but got dropout=0.2 and num_layers=1\n",
            "  \"num_layers={}\".format(dropout, num_layers))\n",
            "/usr/local/lib/python3.7/dist-packages/ipykernel_launcher.py:41: UserWarning: Implicit dimension choice for softmax has been deprecated. Change the call to include dim=X as an argument.\n"
          ],
          "name": "stderr"
        },
        {
          "output_type": "stream",
          "text": [
            "| Epoch: 01 | Train Loss: 0.69 | Train Accuracy: 0.49 |         Val. Loss: 0.69 | Val. Accuracy: 0.51 |\n",
            "| Epoch: 02 | Train Loss: 0.69 | Train Accuracy: 0.54 |         Val. Loss: 0.69 | Val. Accuracy: 0.51 |\n",
            "| Epoch: 03 | Train Loss: 0.68 | Train Accuracy: 0.60 |         Val. Loss: 0.69 | Val. Accuracy: 0.51 |\n",
            "| Epoch: 04 | Train Loss: 0.63 | Train Accuracy: 0.66 |         Val. Loss: 0.71 | Val. Accuracy: 0.52 |\n",
            "| Epoch: 05 | Train Loss: 0.55 | Train Accuracy: 0.73 |         Val. Loss: 0.76 | Val. Accuracy: 0.52 |\n",
            "| Epoch: 06 | Train Loss: 0.46 | Train Accuracy: 0.79 |         Val. Loss: 0.80 | Val. Accuracy: 0.53 |\n",
            "| Epoch: 07 | Train Loss: 0.38 | Train Accuracy: 0.84 |         Val. Loss: 0.87 | Val. Accuracy: 0.53 |\n",
            "| Epoch: 08 | Train Loss: 0.31 | Train Accuracy: 0.87 |         Val. Loss: 0.93 | Val. Accuracy: 0.52 |\n",
            "| Epoch: 09 | Train Loss: 0.25 | Train Accuracy: 0.90 |         Val. Loss: 1.03 | Val. Accuracy: 0.54 |\n",
            "| Epoch: 10 | Train Loss: 0.20 | Train Accuracy: 0.92 |         Val. Loss: 1.07 | Val. Accuracy: 0.52 |\n",
            "| Epoch: 11 | Train Loss: 0.16 | Train Accuracy: 0.94 |         Val. Loss: 1.19 | Val. Accuracy: 0.53 |\n",
            "| Epoch: 12 | Train Loss: 0.13 | Train Accuracy: 0.96 |         Val. Loss: 1.22 | Val. Accuracy: 0.52 |\n",
            "| Epoch: 13 | Train Loss: 0.10 | Train Accuracy: 0.97 |         Val. Loss: 1.31 | Val. Accuracy: 0.53 |\n",
            "| Epoch: 14 | Train Loss: 0.09 | Train Accuracy: 0.97 |         Val. Loss: 1.38 | Val. Accuracy: 0.53 |\n",
            "| Epoch: 15 | Train Loss: 0.07 | Train Accuracy: 0.98 |         Val. Loss: 1.47 | Val. Accuracy: 0.53 |\n",
            "| Epoch: 16 | Train Loss: 0.06 | Train Accuracy: 0.98 |         Val. Loss: 1.49 | Val. Accuracy: 0.53 |\n",
            "| Epoch: 17 | Train Loss: 0.05 | Train Accuracy: 0.99 |         Val. Loss: 1.59 | Val. Accuracy: 0.53 |\n",
            "| Epoch: 18 | Train Loss: 0.04 | Train Accuracy: 0.99 |         Val. Loss: 1.62 | Val. Accuracy: 0.53 |\n",
            "| Epoch: 19 | Train Loss: 0.03 | Train Accuracy: 0.99 |         Val. Loss: 1.71 | Val. Accuracy: 0.53 |\n",
            "| Epoch: 20 | Train Loss: 0.03 | Train Accuracy: 0.99 |         Val. Loss: 1.77 | Val. Accuracy: 0.53 |\n"
          ],
          "name": "stdout"
        }
      ]
    },
    {
      "cell_type": "code",
      "metadata": {
        "colab": {
          "base_uri": "https://localhost:8080/"
        },
        "id": "yUqWwomLsuYW",
        "outputId": "bc97c74e-4021-4838-c760-5703ddc9ea29"
      },
      "source": [
        "epochs = 50\n",
        "train(train_loader, dev_loader, model, epochs, optimizer)"
      ],
      "execution_count": 49,
      "outputs": [
        {
          "output_type": "stream",
          "text": [
            "Training model.\n"
          ],
          "name": "stdout"
        },
        {
          "output_type": "stream",
          "text": [
            "/usr/local/lib/python3.7/dist-packages/ipykernel_launcher.py:41: UserWarning: Implicit dimension choice for softmax has been deprecated. Change the call to include dim=X as an argument.\n"
          ],
          "name": "stderr"
        },
        {
          "output_type": "stream",
          "text": [
            "| Epoch: 01 | Train Loss: 0.01 | Train Accuracy: 1.00 |         Val. Loss: 2.16 | Val. Accuracy: 0.51 |\n",
            "| Epoch: 02 | Train Loss: 0.01 | Train Accuracy: 1.00 |         Val. Loss: 2.34 | Val. Accuracy: 0.52 |\n",
            "| Epoch: 03 | Train Loss: 0.01 | Train Accuracy: 1.00 |         Val. Loss: 2.33 | Val. Accuracy: 0.52 |\n",
            "| Epoch: 04 | Train Loss: 0.01 | Train Accuracy: 1.00 |         Val. Loss: 2.42 | Val. Accuracy: 0.52 |\n",
            "| Epoch: 05 | Train Loss: 0.01 | Train Accuracy: 1.00 |         Val. Loss: 2.55 | Val. Accuracy: 0.52 |\n",
            "| Epoch: 06 | Train Loss: 0.01 | Train Accuracy: 1.00 |         Val. Loss: 2.52 | Val. Accuracy: 0.52 |\n",
            "| Epoch: 07 | Train Loss: 0.00 | Train Accuracy: 1.00 |         Val. Loss: 2.62 | Val. Accuracy: 0.52 |\n",
            "| Epoch: 08 | Train Loss: 0.01 | Train Accuracy: 1.00 |         Val. Loss: 2.61 | Val. Accuracy: 0.52 |\n",
            "| Epoch: 09 | Train Loss: 0.01 | Train Accuracy: 1.00 |         Val. Loss: 2.48 | Val. Accuracy: 0.52 |\n",
            "| Epoch: 10 | Train Loss: 0.01 | Train Accuracy: 1.00 |         Val. Loss: 2.51 | Val. Accuracy: 0.51 |\n",
            "| Epoch: 11 | Train Loss: 0.01 | Train Accuracy: 1.00 |         Val. Loss: 2.46 | Val. Accuracy: 0.53 |\n",
            "| Epoch: 12 | Train Loss: 0.01 | Train Accuracy: 1.00 |         Val. Loss: 2.47 | Val. Accuracy: 0.51 |\n",
            "| Epoch: 13 | Train Loss: 0.01 | Train Accuracy: 1.00 |         Val. Loss: 2.63 | Val. Accuracy: 0.52 |\n",
            "| Epoch: 14 | Train Loss: 0.01 | Train Accuracy: 1.00 |         Val. Loss: 2.60 | Val. Accuracy: 0.52 |\n",
            "| Epoch: 15 | Train Loss: 0.01 | Train Accuracy: 1.00 |         Val. Loss: 2.53 | Val. Accuracy: 0.52 |\n",
            "| Epoch: 16 | Train Loss: 0.01 | Train Accuracy: 1.00 |         Val. Loss: 2.57 | Val. Accuracy: 0.52 |\n",
            "| Epoch: 17 | Train Loss: 0.00 | Train Accuracy: 1.00 |         Val. Loss: 2.59 | Val. Accuracy: 0.53 |\n",
            "| Epoch: 18 | Train Loss: 0.00 | Train Accuracy: 1.00 |         Val. Loss: 2.58 | Val. Accuracy: 0.52 |\n",
            "| Epoch: 19 | Train Loss: 0.01 | Train Accuracy: 1.00 |         Val. Loss: 2.48 | Val. Accuracy: 0.53 |\n",
            "| Epoch: 20 | Train Loss: 0.00 | Train Accuracy: 1.00 |         Val. Loss: 2.71 | Val. Accuracy: 0.53 |\n",
            "| Epoch: 21 | Train Loss: 0.00 | Train Accuracy: 1.00 |         Val. Loss: 2.61 | Val. Accuracy: 0.53 |\n",
            "| Epoch: 22 | Train Loss: 0.00 | Train Accuracy: 1.00 |         Val. Loss: 2.69 | Val. Accuracy: 0.53 |\n",
            "| Epoch: 23 | Train Loss: 0.00 | Train Accuracy: 1.00 |         Val. Loss: 2.67 | Val. Accuracy: 0.53 |\n",
            "| Epoch: 24 | Train Loss: 0.00 | Train Accuracy: 1.00 |         Val. Loss: 2.79 | Val. Accuracy: 0.53 |\n",
            "| Epoch: 25 | Train Loss: 0.00 | Train Accuracy: 1.00 |         Val. Loss: 2.69 | Val. Accuracy: 0.53 |\n",
            "| Epoch: 26 | Train Loss: 0.01 | Train Accuracy: 1.00 |         Val. Loss: 2.36 | Val. Accuracy: 0.53 |\n",
            "| Epoch: 27 | Train Loss: 0.01 | Train Accuracy: 1.00 |         Val. Loss: 2.56 | Val. Accuracy: 0.53 |\n",
            "| Epoch: 28 | Train Loss: 0.00 | Train Accuracy: 1.00 |         Val. Loss: 2.58 | Val. Accuracy: 0.53 |\n",
            "| Epoch: 29 | Train Loss: 0.00 | Train Accuracy: 1.00 |         Val. Loss: 2.74 | Val. Accuracy: 0.53 |\n",
            "| Epoch: 30 | Train Loss: 0.00 | Train Accuracy: 1.00 |         Val. Loss: 2.73 | Val. Accuracy: 0.53 |\n",
            "| Epoch: 31 | Train Loss: 0.00 | Train Accuracy: 1.00 |         Val. Loss: 2.78 | Val. Accuracy: 0.52 |\n",
            "| Epoch: 32 | Train Loss: 0.00 | Train Accuracy: 1.00 |         Val. Loss: 2.79 | Val. Accuracy: 0.52 |\n",
            "| Epoch: 33 | Train Loss: 0.00 | Train Accuracy: 1.00 |         Val. Loss: 2.84 | Val. Accuracy: 0.52 |\n",
            "| Epoch: 34 | Train Loss: 0.00 | Train Accuracy: 1.00 |         Val. Loss: 2.90 | Val. Accuracy: 0.52 |\n",
            "| Epoch: 35 | Train Loss: 0.00 | Train Accuracy: 1.00 |         Val. Loss: 2.96 | Val. Accuracy: 0.52 |\n",
            "| Epoch: 36 | Train Loss: 0.00 | Train Accuracy: 1.00 |         Val. Loss: 3.00 | Val. Accuracy: 0.52 |\n",
            "| Epoch: 37 | Train Loss: 0.00 | Train Accuracy: 1.00 |         Val. Loss: 2.85 | Val. Accuracy: 0.52 |\n",
            "| Epoch: 38 | Train Loss: 0.00 | Train Accuracy: 1.00 |         Val. Loss: 3.03 | Val. Accuracy: 0.53 |\n",
            "| Epoch: 39 | Train Loss: 0.00 | Train Accuracy: 1.00 |         Val. Loss: 3.08 | Val. Accuracy: 0.53 |\n",
            "| Epoch: 40 | Train Loss: 0.01 | Train Accuracy: 1.00 |         Val. Loss: 2.66 | Val. Accuracy: 0.53 |\n",
            "| Epoch: 41 | Train Loss: 0.02 | Train Accuracy: 0.99 |         Val. Loss: 2.53 | Val. Accuracy: 0.53 |\n",
            "| Epoch: 42 | Train Loss: 0.00 | Train Accuracy: 1.00 |         Val. Loss: 2.54 | Val. Accuracy: 0.54 |\n",
            "| Epoch: 43 | Train Loss: 0.00 | Train Accuracy: 1.00 |         Val. Loss: 2.69 | Val. Accuracy: 0.54 |\n",
            "| Epoch: 44 | Train Loss: 0.00 | Train Accuracy: 1.00 |         Val. Loss: 2.70 | Val. Accuracy: 0.54 |\n",
            "| Epoch: 45 | Train Loss: 0.00 | Train Accuracy: 1.00 |         Val. Loss: 2.76 | Val. Accuracy: 0.53 |\n",
            "| Epoch: 46 | Train Loss: 0.00 | Train Accuracy: 1.00 |         Val. Loss: 2.73 | Val. Accuracy: 0.54 |\n",
            "| Epoch: 47 | Train Loss: 0.00 | Train Accuracy: 1.00 |         Val. Loss: 2.77 | Val. Accuracy: 0.53 |\n",
            "| Epoch: 48 | Train Loss: 0.00 | Train Accuracy: 1.00 |         Val. Loss: 2.80 | Val. Accuracy: 0.54 |\n",
            "| Epoch: 49 | Train Loss: 0.00 | Train Accuracy: 1.00 |         Val. Loss: 2.85 | Val. Accuracy: 0.53 |\n",
            "| Epoch: 50 | Train Loss: 0.00 | Train Accuracy: 1.00 |         Val. Loss: 2.87 | Val. Accuracy: 0.53 |\n"
          ],
          "name": "stdout"
        },
        {
          "output_type": "execute_result",
          "data": {
            "text/plain": [
              "{'epoch_acc': [0.9974946313528991,\n",
              "  0.9982104509663565,\n",
              "  0.9988069673109043,\n",
              "  0.9984490575041756,\n",
              "  0.999164877117633,\n",
              "  0.9989262705798139,\n",
              "  0.9994034836554522,\n",
              "  0.9990455738487235,\n",
              "  0.9994034836554522,\n",
              "  0.9979718444285374,\n",
              "  0.9979718444285374,\n",
              "  0.9965402052016226,\n",
              "  0.998329754235266,\n",
              "  0.9982104509663565,\n",
              "  0.9985683607730852,\n",
              "  0.9992841803865425,\n",
              "  0.9994034836554522,\n",
              "  0.999164877117633,\n",
              "  0.9985683607730852,\n",
              "  0.9994034836554522,\n",
              "  0.9995227869243617,\n",
              "  0.9998806967310905,\n",
              "  0.9994034836554522,\n",
              "  1.0,\n",
              "  0.999164877117633,\n",
              "  0.9974946313528991,\n",
              "  0.9978525411596277,\n",
              "  0.999164877117633,\n",
              "  0.9996420901932713,\n",
              "  0.9998806967310905,\n",
              "  0.9998806967310905,\n",
              "  0.9998806967310905,\n",
              "  0.9998806967310905,\n",
              "  1.0,\n",
              "  0.9998806967310905,\n",
              "  1.0,\n",
              "  1.0,\n",
              "  1.0,\n",
              "  1.0,\n",
              "  0.9954664757814364,\n",
              "  0.9943927463612503,\n",
              "  0.9989262705798139,\n",
              "  0.9995227869243617,\n",
              "  1.0,\n",
              "  0.9998806967310905,\n",
              "  0.9998806967310905,\n",
              "  1.0,\n",
              "  1.0,\n",
              "  1.0,\n",
              "  1.0],\n",
              " 'valid_acc': [0.513101476893759,\n",
              "  0.5159599809433063,\n",
              "  0.5226298237255836,\n",
              "  0.5183420676512626,\n",
              "  0.5159599809433063,\n",
              "  0.523582658408766,\n",
              "  0.5207241543592187,\n",
              "  0.5150071462601239,\n",
              "  0.5216769890424011,\n",
              "  0.5135778942353502,\n",
              "  0.5288232491662697,\n",
              "  0.5083373034778466,\n",
              "  0.5159599809433063,\n",
              "  0.5154835636017151,\n",
              "  0.5221534063839923,\n",
              "  0.5226298237255836,\n",
              "  0.525488327775131,\n",
              "  0.5212005717008099,\n",
              "  0.5264411624583135,\n",
              "  0.5331110052405907,\n",
              "  0.5307289185326346,\n",
              "  0.5321581705574083,\n",
              "  0.5269175797999047,\n",
              "  0.5259647451167222,\n",
              "  0.5307289185326346,\n",
              "  0.5331110052405907,\n",
              "  0.5273939971414959,\n",
              "  0.5321581705574083,\n",
              "  0.5264411624583135,\n",
              "  0.525488327775131,\n",
              "  0.523582658408766,\n",
              "  0.5245354930919486,\n",
              "  0.5188184849928538,\n",
              "  0.5183420676512626,\n",
              "  0.5216769890424011,\n",
              "  0.5226298237255836,\n",
              "  0.523582658408766,\n",
              "  0.5312053358742258,\n",
              "  0.5297760838494521,\n",
              "  0.5273939971414959,\n",
              "  0.5312053358742258,\n",
              "  0.543592186755598,\n",
              "  0.5393044306812768,\n",
              "  0.5369223439733206,\n",
              "  0.5345402572653645,\n",
              "  0.5354930919485469,\n",
              "  0.5321581705574083,\n",
              "  0.5373987613149118,\n",
              "  0.533587422582182,\n",
              "  0.5345402572653645]}"
            ]
          },
          "metadata": {
            "tags": []
          },
          "execution_count": 49
        }
      ]
    },
    {
      "cell_type": "code",
      "metadata": {
        "colab": {
          "base_uri": "https://localhost:8080/"
        },
        "id": "e3cN6zHzUHfz",
        "outputId": "49ca3378-f4bd-4a00-c8c8-1a2adeb79089"
      },
      "source": [
        "fake_labels = [1] * len(tokenized_test1)\n",
        "test_dataset = Task2Dataset_BiLSTM(vectorized_test1, vectorized_test2, fake_labels)\n",
        "test_loader = torch.utils.data.DataLoader(test_dataset, batch_size=BATCH_SIZE, collate_fn=collate_fn_padd)\n",
        "\n",
        "\n",
        "def create_submission_file(test_loader):\n",
        "    # Get results\n",
        "    results  = np.array([])\n",
        "    for batch in test_loader:\n",
        "      X1, X2, target = batch\n",
        "      X1, X2, target = X1.to(device), X2.to(device), target.to(device)\n",
        "      model.batch_size = target.shape[0]\n",
        "      predictions = model(X1, X2).squeeze(1)\n",
        "      batch_results = np.argmax(predictions.detach().cpu().numpy(), axis=1)\n",
        "      results = np.concatenate((results, batch_results))\n",
        "\n",
        "    #Create data\n",
        "    ids = test_df['id']\n",
        "    results = results + 1\n",
        "    results = results.astype(int)\n",
        "\n",
        "    data = {'id': ids, \n",
        "            'pred': results}\n",
        "    df = pd.DataFrame(data, columns=['id', 'pred'])\n",
        "\n",
        "    #Export data to csv\n",
        "    compression_opts = dict(method='zip',archive_name='task-2-output-part2_best.csv') \n",
        "    df.to_csv('task-2-output-part2_best.zip', index=False, compression=compression_opts)\n",
        "    return\n",
        "\n",
        "create_submission_file(test_loader)"
      ],
      "execution_count": 50,
      "outputs": [
        {
          "output_type": "stream",
          "text": [
            "/usr/local/lib/python3.7/dist-packages/ipykernel_launcher.py:41: UserWarning: Implicit dimension choice for softmax has been deprecated. Change the call to include dim=X as an argument.\n"
          ],
          "name": "stderr"
        }
      ]
    },
    {
      "cell_type": "markdown",
      "metadata": {
        "id": "dYG40gkY0Bln"
      },
      "source": [
        "#### Baseline for task 2"
      ]
    },
    {
      "cell_type": "code",
      "metadata": {
        "id": "PmzYO2i10Bln"
      },
      "source": [
        "# Baseline for the task\n",
        "pred_baseline = torch.zeros(len(dev_y)) + 1  # 1 is most common class\n",
        "print(\"\\nBaseline performance:\")\n",
        "sse, mse = model_performance(pred_baseline, torch.tensor(dev_y.values), True)"
      ],
      "execution_count": null,
      "outputs": []
    },
    {
      "cell_type": "code",
      "metadata": {
        "id": "-XdB-5_I0Blo"
      },
      "source": [
        ""
      ],
      "execution_count": null,
      "outputs": []
    },
    {
      "cell_type": "code",
      "metadata": {
        "id": "uKJ0AOd00Blo"
      },
      "source": [
        ""
      ],
      "execution_count": null,
      "outputs": []
    }
  ]
}
