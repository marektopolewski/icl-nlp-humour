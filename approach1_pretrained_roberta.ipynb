{
  "nbformat": 4,
  "nbformat_minor": 0,
  "metadata": {
    "accelerator": "GPU",
    "colab": {
      "name": "NLP_Task2_Roberta.ipynb",
      "provenance": [],
      "collapsed_sections": [],
      "toc_visible": true,
      "include_colab_link": true
    },
    "kernelspec": {
      "display_name": "Python 3",
      "language": "python",
      "name": "python3"
    },
    "language_info": {
      "codemirror_mode": {
        "name": "ipython",
        "version": 3
      },
      "file_extension": ".py",
      "mimetype": "text/x-python",
      "name": "python",
      "nbconvert_exporter": "python",
      "pygments_lexer": "ipython3",
      "version": "3.7.1"
    }
  },
  "cells": [
    {
      "cell_type": "markdown",
      "metadata": {
        "id": "view-in-github",
        "colab_type": "text"
      },
      "source": [
        "<a href=\"https://colab.research.google.com/github/marektopolewski/icl-nlp-humour/blob/main/approach1_pretrained_roberta.ipynb\" target=\"_parent\"><img src=\"https://colab.research.google.com/assets/colab-badge.svg\" alt=\"Open In Colab\"/></a>"
      ]
    },
    {
      "cell_type": "markdown",
      "metadata": {
        "id": "LO114qTM0Blf"
      },
      "source": [
        "### Coursework coding instructions (please also see full coursework spec)\n",
        "\n",
        "Please choose if you want to do either Task 1 or Task 2. You should write your report about one task only.\n",
        "\n",
        "For the task you choose you will need to do two approaches:\n",
        "  - Approach 1, which can use use pre-trained embeddings / models\n",
        "  - Approach 2, which should not use any pre-trained embeddings or models\n",
        "We should be able to run both approaches from the same colab file\n",
        "\n",
        "#### Running your code:\n",
        "  - Your models should run automatically when running your colab file without further intervention\n",
        "  - For each task you should automatically output the performance of both models\n",
        "  - Your code should automatically download any libraries required\n",
        "\n",
        "#### Structure of your code:\n",
        "  - You are expected to use the 'train', 'eval' and 'model_performance' functions, although you may edit these as required\n",
        "  - Otherwise there are no restrictions on what you can do in your code\n",
        "\n",
        "#### Documentation:\n",
        "  - You are expected to produce a .README file summarising how you have approached both tasks\n",
        "\n",
        "#### Reproducibility:\n",
        "  - Your .README file should explain how to replicate the different experiments mentioned in your report\n",
        "\n",
        "Good luck! We are really looking forward to seeing your reports and your model code!"
      ]
    },
    {
      "cell_type": "code",
      "metadata": {
        "colab": {
          "base_uri": "https://localhost:8080/"
        },
        "id": "PKqe4drh0Blg",
        "outputId": "8ee2b6f5-7e2b-4c1a-aec0-132be556b8c7"
      },
      "source": [
        "# You will need to download any word embeddings required for your code, e.g.:\n",
        "\n",
        "# !wget -q http://nlp.stanford.edu/data/glove.6B.zip\n",
        "# !unzip glove.6B.zip\n",
        "# !rm glove.6B.zip\n",
        "\n",
        "!wget -q https://cs.rochester.edu/u/nhossain/semeval-2020-task-7-dataset.zip\n",
        "!unzip -q semeval-2020-task-7-dataset.zip\n",
        "!rm semeval-2020-task-7-dataset.zip\n",
        "\n",
        "# For any packages that Colab does not provide auotmatically you will also need to install these below, e.g.:\n",
        "\n",
        "! pip -q install transformers tqdm"
      ],
      "execution_count": 2,
      "outputs": [
        {
          "output_type": "stream",
          "text": [
            "\u001b[K     |████████████████████████████████| 1.9MB 4.1MB/s \n",
            "\u001b[K     |████████████████████████████████| 890kB 30.8MB/s \n",
            "\u001b[K     |████████████████████████████████| 3.2MB 39.1MB/s \n",
            "\u001b[?25h  Building wheel for sacremoses (setup.py) ... \u001b[?25l\u001b[?25hdone\n"
          ],
          "name": "stdout"
        }
      ]
    },
    {
      "cell_type": "code",
      "metadata": {
        "id": "QT-EZhC50Blh"
      },
      "source": [
        "# Imports\n",
        "\n",
        "import torch\n",
        "import torch.nn as nn\n",
        "from torch.nn.utils.clip_grad import clip_grad_norm_\n",
        "from sklearn.feature_extraction.text import TfidfTransformer\n",
        "import pandas as pd\n",
        "import numpy as np\n",
        "from sklearn.feature_extraction.text import CountVectorizer\n",
        "from torch.utils.data import Dataset, random_split, DataLoader\n",
        "from torch.nn import functional as F\n",
        "from sklearn.model_selection import train_test_split\n",
        "from sklearn.naive_bayes import MultinomialNB\n",
        "import torch.optim as optim\n",
        "import codecs\n",
        "from tqdm import tqdm\n",
        "from transformers import RobertaModel, RobertaTokenizer\n",
        "import matplotlib.pyplot as plt\n",
        "import os\n",
        "import seaborn as sns"
      ],
      "execution_count": 3,
      "outputs": []
    },
    {
      "cell_type": "code",
      "metadata": {
        "colab": {
          "base_uri": "https://localhost:8080/"
        },
        "id": "REQlB22W0Blh",
        "outputId": "583d11aa-802e-4b20-d565-22fc13297aa4"
      },
      "source": [
        "# Setting random seed and device\n",
        "SEED = 1\n",
        "\n",
        "torch.manual_seed(SEED)\n",
        "torch.cuda.manual_seed(SEED)\n",
        "torch.backends.cudnn.deterministic = True\n",
        "\n",
        "use_cuda = torch.cuda.is_available()\n",
        "device = torch.device(\"cuda:0\" if use_cuda else \"cpu\")\n",
        "print(device)"
      ],
      "execution_count": 4,
      "outputs": [
        {
          "output_type": "stream",
          "text": [
            "cuda:0\n"
          ],
          "name": "stdout"
        }
      ]
    },
    {
      "cell_type": "code",
      "metadata": {
        "id": "vR9qzBjJ0Bli"
      },
      "source": [
        "# Number of epochs\n",
        "EPOCHS = 10\n",
        "BATCH_SIZE = 32\n",
        "LEARNING_RATE = 2e-05\n",
        "ADAM_EPSILON = 1e-8\n",
        "GRAD_CLIP = 5\n",
        "\n",
        "# Model params\n",
        "context_types = ['none', 'masked', 'original']\n",
        "CONTEXT_TYPE = context_types[2]\n",
        "CLASSIFICATION_HEAD = True\n",
        "\n",
        "# Proportion of training data for train compared to dev\n",
        "TRAINING_RATIO = 0.8\n",
        "AUG_RANDOM_FLIP = True\n",
        "\n",
        "# Pre-trained models\n",
        "tokenizer = RobertaTokenizer.from_pretrained(\"roberta-base\")\n",
        "# transformer = RobertaModel.from_pretrained(\"roberta-base\", output_hidden_states=True)"
      ],
      "execution_count": 16,
      "outputs": []
    },
    {
      "cell_type": "markdown",
      "metadata": {
        "id": "elMRsCQ70Bli"
      },
      "source": [
        "#### Approach 1: Using pre-trained representations"
      ]
    },
    {
      "cell_type": "code",
      "metadata": {
        "colab": {
          "base_uri": "https://localhost:8080/"
        },
        "id": "pVsqpuXCeE-G",
        "outputId": "20ad1e5e-d2a3-44bb-e8d9-2a9892208b65"
      },
      "source": [
        "########################################### LOAD DATA ##############################################\r\n",
        "import re\r\n",
        "\r\n",
        "# We create a Dataset so we can create minibatches\r\n",
        "class Task2Dataset(Dataset):\r\n",
        "\r\n",
        "    def __init__(self, df):\r\n",
        "      cust_tokenize = lambda x: tokenizer.convert_tokens_to_ids(tokenizer.tokenize(x))\r\n",
        "\r\n",
        "      self.x_edit_1 = [cust_tokenize(x) for x in df.edit_sentence1.tolist()]\r\n",
        "      self.x_masked_1 = [cust_tokenize(x) for x in df.masked1.tolist()]\r\n",
        "      self.y_grade_1 = df.meanGrade1.tolist()\r\n",
        "\r\n",
        "      self.x_edit_2 = [cust_tokenize(x) for x in df.edit_sentence2.tolist()]\r\n",
        "      self.x_masked_2 = [cust_tokenize(x) for x in df.masked2.tolist()]\r\n",
        "      self.y_grade_2 = df.meanGrade2.tolist()\r\n",
        "\r\n",
        "      self.x_original = [cust_tokenize(x) for x in df.original.tolist()]\r\n",
        "      self.y_label = df.label.tolist()\r\n",
        "\r\n",
        "    def __len__(self):\r\n",
        "        return len(self.y_label)\r\n",
        "\r\n",
        "    def __getitem__(self, item):\r\n",
        "        # convert to 0,1 labels\r\n",
        "        label = self.y_label[item] - 1\r\n",
        "\r\n",
        "        # randomly swap the order of sentences\r\n",
        "        flip = np.random.choice([True, False]) if AUG_RANDOM_FLIP else False\r\n",
        "\r\n",
        "        return { 'x_edit_1':      getattr(self, f'x_edit_{2 if flip else 1}')[item],\r\n",
        "                 'x_masked_1':    getattr(self, f'x_masked_{2 if flip else 1}')[item],\r\n",
        "                 'y_grade_1':     getattr(self, f'y_grade_{2 if flip else 1}')[item],\r\n",
        "                 'x_edit_2':      getattr(self, f'x_edit_{1 if flip else 2}')[item],\r\n",
        "                 'x_masked_2':    getattr(self, f'x_masked_{1 if flip else 2}')[item],\r\n",
        "                 'y_grade_2':     getattr(self, f'y_grade_{1 if flip else 2}')[item],\r\n",
        "                 'x_original':    self.x_original[item],\r\n",
        "                 'y_label':       1 - label if flip else label }\r\n",
        "\r\n",
        "def preprocess_data(df, drop_zero, keep_id=False):\r\n",
        "  print('[preprocess] started... ', end='')\r\n",
        "\r\n",
        "  # create sentences by replacing <word/> words\r\n",
        "  for row_idx, row in df.iterrows():\r\n",
        "    original = row['original1'].strip()\r\n",
        "    orig_word = re.search(\"<(.*)/>\", original)\r\n",
        "    orig_seq = f'{tokenizer.sep_token} {orig_word} {tokenizer.sep_token}'\r\n",
        "    df.loc[row_idx, 'original'] = re.sub(\"<.*/>\", orig_seq, original)\r\n",
        "    for i in ['1', '2']:\r\n",
        "      edit_seq = f'{tokenizer.sep_token} {row[f\"edit{i}\"]} {tokenizer.sep_token}'\r\n",
        "      mask_seq = f'{tokenizer.sep_token} {tokenizer.mask_token} {tokenizer.sep_token}'\r\n",
        "      df.loc[row_idx, f'edit_sentence{i}'] = re.sub(\"<.*/>\", edit_seq, original)\r\n",
        "      df.loc[row_idx, f'masked{i}'] = re.sub(\"<.*/>\", mask_seq, original)\r\n",
        "\r\n",
        "  # keep only the relevant columns  \r\n",
        "  cols_to_drop = list(df.columns)\r\n",
        "  for i in ['1', '2']:\r\n",
        "    cols_to_drop.remove(f'edit_sentence{i}')\r\n",
        "    cols_to_drop.remove(f'masked{i}')\r\n",
        "    cols_to_drop.remove(f'meanGrade{i}')\r\n",
        "  cols_to_drop.remove('original')\r\n",
        "  cols_to_drop.remove('label')\r\n",
        "  if keep_id:\r\n",
        "    cols_to_drop.remove('id')\r\n",
        "  df = df.drop(columns=cols_to_drop)\r\n",
        "\r\n",
        "  # remove rows with label = 0 (not assessed in the task)\r\n",
        "  if drop_zero:\r\n",
        "    df = df.drop(df[df['label'] == 0].index)\r\n",
        "\r\n",
        "  print('done.')\r\n",
        "  return df\r\n",
        "\r\n",
        "def pad_column(col):\r\n",
        "  max_len = max([len(x) for x in col])\r\n",
        "  for k, v in enumerate(col):\r\n",
        "    col[k] += [tokenizer.pad_token_id] * (max_len - len(v))\r\n",
        "  return col\r\n",
        "\r\n",
        "def pad_batch(batch):\r\n",
        "  x_edit_1 = pad_column([row['x_edit_1'] for row in batch])\r\n",
        "  x_masked_1 = pad_column([row['x_masked_1'] for row in batch])\r\n",
        "  y_grade_1 = [row['y_grade_1'] for row in batch]\r\n",
        "  x_edit_2 = pad_column([row['x_edit_2'] for row in batch])\r\n",
        "  x_masked_2 = pad_column([row['x_masked_2'] for row in batch])\r\n",
        "  y_grade_2 = [row['y_grade_2'] for row in batch]\r\n",
        "  x_original = pad_column([row['x_original'] for row in batch])\r\n",
        "  y_label = [row['y_label'] for row in batch]\r\n",
        "  return {'x_edit_1': x_edit_1, 'x_masked_1': x_masked_1, 'y_grade_1': y_grade_1,\r\n",
        "          'x_edit_2': x_edit_2, 'x_masked_2': x_masked_2, 'y_grade_2': y_grade_2,\r\n",
        "          'x_original': x_original, 'y_label': y_label}\r\n",
        "\r\n",
        "\r\n",
        "# Load data from CSV\r\n",
        "train_df = pd.read_csv('semeval-2020-task-7-dataset/subtask-2/train.csv')\r\n",
        "funlines_df = pd.read_csv('semeval-2020-task-7-dataset/subtask-2/train_funlines.csv')\r\n",
        "dev_df = pd.read_csv('semeval-2020-task-7-dataset/subtask-2/dev.csv')\r\n",
        "print('Data loaded from CSV.')\r\n",
        "\r\n",
        "# Preprocess the data -> creates 2x (edit_sentence, masked_sentence, grade) + original + label\r\n",
        "funlines_df2 = preprocess_data(funlines_df, drop_zero=True)\r\n",
        "train_df2 = preprocess_data(train_df, drop_zero=True)\r\n",
        "dev_df2 = preprocess_data(dev_df, drop_zero=True)\r\n",
        "dataset = Task2Dataset(pd.concat([train_df2, funlines_df2, dev_df2]))\r\n",
        "print('Dataset built.')\r\n",
        "\r\n",
        "# Perform the train/eval split\r\n",
        "train_size = round(len(dataset) * TRAINING_RATIO)\r\n",
        "eval_size = len(dataset) - train_size\r\n",
        "train_dataset, eval_dataset = random_split(dataset, (train_size, eval_size))\r\n",
        "\r\n",
        "# Create data loaders\r\n",
        "train_loader = DataLoader(train_dataset, shuffle=True, batch_size=BATCH_SIZE, collate_fn=pad_batch)\r\n",
        "eval_loader = DataLoader(eval_dataset, shuffle=False, batch_size=BATCH_SIZE, collate_fn=pad_batch)\r\n",
        "print('Train and evaluation split data loaders generated.')"
      ],
      "execution_count": 20,
      "outputs": [
        {
          "output_type": "stream",
          "text": [
            "Data loaded from CSV.\n",
            "[preprocess] started... done.\n",
            "[preprocess] started... done.\n",
            "[preprocess] started... done.\n",
            "Dataset built.\n",
            "Train and evaluation split data loaders generated.\n"
          ],
          "name": "stdout"
        }
      ]
    },
    {
      "cell_type": "markdown",
      "metadata": {
        "id": "nEM5Ks2E3A7K"
      },
      "source": [
        "#### Visualisations"
      ]
    },
    {
      "cell_type": "code",
      "metadata": {
        "colab": {
          "base_uri": "https://localhost:8080/",
          "height": 580
        },
        "id": "tyoEG_093OFa",
        "outputId": "39bc93c1-3454-4b49-870c-c3b7114563c1"
      },
      "source": [
        "fig, ax = plt.subplots(nrows=1, ncols=2, figsize=(10,3))\r\n",
        "sns.countplot(ax=ax[0], x=train_df['label'])\r\n",
        "ax[0].set_title(\"Label distribution in Humicroedit dataset\")\r\n",
        "ax[0].set_xlabel(\"Label\")\r\n",
        "ax[0].set_ylabel(\"Count\")\r\n",
        "sns.countplot(ax=ax[1], x=funlines_df['label'])\r\n",
        "ax[1].set_title(\"Label distribution in FunLines dataset\");\r\n",
        "ax[1].set_xlabel(\"Label\")\r\n",
        "ax[1].set_ylabel(\"Count\")\r\n",
        "fig.show()\r\n",
        "\r\n",
        "fig, ax = plt.subplots(nrows=1, ncols=2, figsize=(12,5))\r\n",
        "sns.histplot(ax=ax[0], bins=16, kde=False,\r\n",
        "             x=pd.concat([train_df['meanGrade1'], train_df['meanGrade2']]))\r\n",
        "ax[0].set_title(\"Mean grade distribution in Humicroedit dataset\")\r\n",
        "ax[0].set_xlabel(\"Label\")\r\n",
        "ax[0].set_ylabel(\"Count\")\r\n",
        "sns.histplot(ax=ax[1], bins=16, kde=False,\r\n",
        "             x=pd.concat([funlines_df['meanGrade1'], funlines_df['meanGrade2']]))\r\n",
        "ax[1].set_title(\"Label distribution in FunLines dataset\");\r\n",
        "ax[1].set_xlabel(\"Label\")\r\n",
        "ax[1].set_ylabel(\"Count\")\r\n",
        "plt.setp(ax[0].get_xticklabels(), rotation=90)\r\n",
        "plt.setp(ax[1].get_xticklabels(), rotation=90)\r\n",
        "fig.show()"
      ],
      "execution_count": 24,
      "outputs": [
        {
          "output_type": "display_data",
          "data": {
            "image/png": "[encoded data removed]",
            "text/plain": [
              "<Figure size 720x216 with 2 Axes>"
            ]
          },
          "metadata": {
            "tags": [],
            "needs_background": "light"
          }
        },
        {
          "output_type": "display_data",
          "data": {
            "image/png": "[encoded data removed]",
            "text/plain": [
              "<Figure size 864x360 with 2 Axes>"
            ]
          },
          "metadata": {
            "tags": [],
            "needs_background": "light"
          }
        }
      ]
    },
    {
      "cell_type": "markdown",
      "metadata": {
        "id": "5pukluUp3PSu"
      },
      "source": [
        "#### Model"
      ]
    },
    {
      "cell_type": "code",
      "metadata": {
        "id": "LPQ9ob2iqDRi"
      },
      "source": [
        "def get_span_mask(span, sent_len):\r\n",
        "    bsz = span.shape[0]\r\n",
        "    index_tensor = (\r\n",
        "        torch.tensor(list(range(sent_len)), device=device)\r\n",
        "        .unsqueeze(0)\r\n",
        "        .expand(bsz, sent_len)\r\n",
        "    )\r\n",
        "    start_index, end_index = span.split(1, dim=-1)\r\n",
        "    start_index = start_index + 1\r\n",
        "    end_index = end_index - 1\r\n",
        "\r\n",
        "    start_mask = (index_tensor - start_index) >= 0\r\n",
        "    end_mask = (index_tensor - end_index) <= 0\r\n",
        "    span_mask = start_mask & end_mask\r\n",
        "\r\n",
        "    return span_mask"
      ],
      "execution_count": 25,
      "outputs": []
    },
    {
      "cell_type": "code",
      "metadata": {
        "id": "qMXNuuzJX8a7"
      },
      "source": [
        "# DEFINE MODEL\r\n",
        "\r\n",
        "class ColBERT(nn.Module):\r\n",
        "\r\n",
        "  def __init__(self, tokenizer, transformer, context=False, classification=False, simple_feature=False):\r\n",
        "    super(ColBERT, self).__init__()\r\n",
        "    self.tokenizer = tokenizer\r\n",
        "    self.transformer = transformer\r\n",
        "    self.context = context                # combine edits with context\r\n",
        "    self.classification = classification  # use classfication head\r\n",
        "    self.simple_feature = simple_feature  # use simplified feature vector (classifcation only)\r\n",
        "\r\n",
        "    hid_size = transformer.config.hidden_size\r\n",
        "    feature_size = 4 if not simple_feature else 1\r\n",
        "\r\n",
        "    if not self.classification:\r\n",
        "      self.head = nn.Linear(hid_size * (feature_size if self.context else 1), 1)\r\n",
        "    else:\r\n",
        "      self.head = nn.Sequential(\r\n",
        "          nn.Dropout(0.2),\r\n",
        "          nn.Linear(hid_size * feature_size, 1))\r\n",
        "\r\n",
        "    if self.context and self.classification:\r\n",
        "      self.pool = nn.Linear(hid_size * feature_size * 2, hid_size * feature_size)\r\n",
        "\r\n",
        "\r\n",
        "  def forward(self, edit1, context1, edit2, context2):\r\n",
        "    if self.context:\r\n",
        "      if self.classification:\r\n",
        "        return self._classify_context(edit1, context1, edit2, context2)\r\n",
        "      else:\r\n",
        "        return self._regress_context(edit1, context1, edit2, context2)\r\n",
        "    else:\r\n",
        "      if self.classification:\r\n",
        "        return self._classify(edit1, edit2)\r\n",
        "      else:\r\n",
        "        return self._regress(edit1, edit2)      \r\n",
        "    raise Exception('Invalid model config')\r\n",
        "\r\n",
        "  def _regress_context(self, edit1, context1, edit2, context2):\r\n",
        "    edit1_emb, edit2_emb = self._embed(edit1), self._embed(edit2)\r\n",
        "    context1_emb, context2_emb = self._embed(context1), self._embed(context2)\r\n",
        "    h1 = self._make_feature(edit1_emb, context1_emb)\r\n",
        "    h2 = self._make_feature(edit2_emb, context2_emb)\r\n",
        "    grade1 = self.head(h1).squeeze()\r\n",
        "    grade2 = self.head(h2).squeeze()\r\n",
        "    labels = torch.argmax(torch.stack([grade1, grade2], -1), dim=-1)\r\n",
        "    return labels, grade1, grade2\r\n",
        "  \r\n",
        "  def _regress(self, edit1, edit2):\r\n",
        "    edit1_emb = self._embed(edit1)\r\n",
        "    edit2_emb = self._embed(edit2)\r\n",
        "    grade1 = self.head(edit1_emb).squeeze()\r\n",
        "    grade2 = self.head(edit2_emb).squeeze()\r\n",
        "    labels = torch.argmax(torch.stack([grade1, grade2], -1), dim=-1)\r\n",
        "    return labels, grade1, grade2\r\n",
        "  \r\n",
        "  def _classify_context(self, edit1, context1, edit2, context2):\r\n",
        "    edit1_emb = self._embed(edit1)\r\n",
        "    edit2_emb = self._embed(edit2)\r\n",
        "    context1_emb = self._embed(context1)\r\n",
        "    context2_emb = self._embed(context2)\r\n",
        "    h1 = self._make_feature(edit1_emb, context1_emb)\r\n",
        "    h2 = self._make_feature(edit2_emb, context2_emb)\r\n",
        "    h = self.pool(torch.cat([h1, h2], -1))\r\n",
        "    return self.head(h), None, None\r\n",
        "    \r\n",
        "  def _classify(self, edit1, edit2):\r\n",
        "    edit1_emb = self._embed(edit1)\r\n",
        "    edit2_emb = self._embed(edit2)\r\n",
        "    h = self._make_feature(edit1_emb, edit2_emb)\r\n",
        "    return self.head(h), None, None\r\n",
        "  \r\n",
        "  def _embed(self, inp):\r\n",
        "    inp_mask = (inp != self.tokenizer.pad_token_id) & (inp != self.tokenizer.sep_token_id)\r\n",
        "    sep_mask = inp == self.tokenizer.sep_token_id\r\n",
        "        \r\n",
        "    outputs = self.transformer(inp, attention_mask=inp_mask)\r\n",
        "    last_hidden_state = outputs.last_hidden_state\r\n",
        "\r\n",
        "    span = torch.nonzero(input=sep_mask, as_tuple=True)[1].view(-1, 2)\r\n",
        "    span_mask = get_span_mask(span=span, sent_len=inp.shape[-1])\r\n",
        "\r\n",
        "    out = self._pool(last_hidden_state, span_mask)\r\n",
        "\r\n",
        "    return out\r\n",
        "\r\n",
        "  def _make_feature(self, u, v):\r\n",
        "    if self.simple_feature:\r\n",
        "      return torch.cat([u - v], -1)\r\n",
        "    return torch.cat([u, v, (u - v).abs(), u * v], -1)\r\n",
        "\r\n",
        "  @staticmethod\r\n",
        "  def _pool(sequence, mask):\r\n",
        "    if len(sequence.shape) == 2:\r\n",
        "      return sequence\r\n",
        "    if mask is None:\r\n",
        "      mask = torch.ones(sequence.shape[:2], device=device)\r\n",
        "    if len(mask.size()) < 3:\r\n",
        "      mask = mask.unsqueeze(dim=-1)\r\n",
        "    pad_mask = mask == 0\r\n",
        "    sequence = sequence.masked_fill(pad_mask, 0)\r\n",
        "    seq_emb = sequence.sum(dim=1) / mask.sum(dim=1).float()\r\n",
        "    return seq_emb\r\n",
        "  \r\n",
        "  @staticmethod\r\n",
        "  def _soft_argmax(u, v, threshold=None):\r\n",
        "    \"\"\"\"\r\n",
        "    Assign 0 instead of 1 (for u) or 2 (for v) if difference below threshold.\r\n",
        "    Ultimately not used with (threshold != None) because we disregard 0 labels.\r\n",
        "    \"\"\"\r\n",
        "    argmax = torch.argmax(torch.stack([u, v], -1), dim=-1) + 1\r\n",
        "    if not threshold:\r\n",
        "      return argmax\r\n",
        "    diff_mask = (u - v).abs() <= threshold\r\n",
        "    return argmax.masked_fill(diff_mask, 0)"
      ],
      "execution_count": 26,
      "outputs": []
    },
    {
      "cell_type": "code",
      "metadata": {
        "id": "jw539pIWcMfc"
      },
      "source": [
        "# How we print the model performance\r\n",
        "def model_performance(output, target, size, print_output=False):\r\n",
        "    \"\"\"\r\n",
        "    Returns accuracy per batch, i.e. if you get 8/10 right, this returns 0.8, NOT 8\r\n",
        "    \"\"\"\r\n",
        "    correct_answers = (output == target)\r\n",
        "    correct = sum(correct_answers)\r\n",
        "    acc = np.true_divide(correct, size)\r\n",
        "\r\n",
        "    if print_output:\r\n",
        "        print(f'| Acc: {acc:.2f} ')\r\n",
        "\r\n",
        "    return correct, acc\r\n",
        "\r\n",
        "def preds_to_lables(x):\r\n",
        "  return (nn.Sigmoid()(x) > 0.5).long()"
      ],
      "execution_count": 27,
      "outputs": []
    },
    {
      "cell_type": "code",
      "metadata": {
        "id": "Z3uaCGQZcO1P"
      },
      "source": [
        "# We evaluate performance on our dev set\r\n",
        "def eval(data_iter, model, context_type='none', classification=False):\r\n",
        "    \"\"\"\r\n",
        "    Evaluating model performance on the dev set\r\n",
        "    \"\"\"\r\n",
        "    model.eval()\r\n",
        "    epoch_loss = 0\r\n",
        "    epoch_correct = 0\r\n",
        "    pred_all = []\r\n",
        "    trg_all = []\r\n",
        "    no_observations = 0\r\n",
        "\r\n",
        "    with torch.no_grad():\r\n",
        "        for batch in data_iter:\r\n",
        "  \r\n",
        "          # Extract relevant data fields and cast to tensors\r\n",
        "          edit1 = torch.LongTensor(batch['x_edit_1']).to(device)\r\n",
        "          edit2 = torch.LongTensor(batch['x_edit_2']).to(device)\r\n",
        "          y_label_true = torch.FloatTensor(batch['y_label']).to(device)\r\n",
        "          if context_type == 'masked':\r\n",
        "            context1 = torch.LongTensor(batch['x_masked_1']).to(device)\r\n",
        "            context2 = torch.LongTensor(batch['x_masked_2']).to(device)\r\n",
        "          elif context_type == 'original':\r\n",
        "            context1 = context2 = torch.LongTensor(batch['x_original']).to(device)\r\n",
        "          else:\r\n",
        "            context1 = context2 = None\r\n",
        "    \r\n",
        "          if classification:\r\n",
        "            y_grade1_true = y_grade2_true = None\r\n",
        "          else:\r\n",
        "            y_grade1_true = torch.FloatTensor(batch['y_grade_1']).to(device)\r\n",
        "            y_grade2_true = torch.FloatTensor(batch['y_grade_2']).to(device)\r\n",
        "      \r\n",
        "          batch_len = len(y_label_true)\r\n",
        "          optimizer.zero_grad()\r\n",
        "\r\n",
        "          # Forward pass\r\n",
        "          y_label_pred, y_grade1_pred, y_grade2_pred = model(edit1, context1, edit2, context2)\r\n",
        "          y_label_pred = y_label_pred.squeeze(-1)\r\n",
        "    \r\n",
        "          # Calculate regression loss\r\n",
        "          if not classification:\r\n",
        "            if batch_len == 1:\r\n",
        "              y_grade1_pred = y_grade1_pred.unsqueeze(-1)\r\n",
        "              y_grade2_pred = y_grade2_pred.unsqueeze(-1)\r\n",
        "            loss_fn = nn.MSELoss(reduction=\"sum\")\r\n",
        "            loss1 = loss_fn(y_grade1_pred, y_grade1_true)\r\n",
        "            loss2 = loss_fn(y_grade2_pred, y_grade2_true)\r\n",
        "            loss = (loss1 + loss2)\r\n",
        "            label_preds = y_label_pred.detach().cpu().numpy()\r\n",
        "          # Calculate classification loss\r\n",
        "          else:\r\n",
        "            loss_fn = nn.BCEWithLogitsLoss(reduction=\"sum\")\r\n",
        "            loss = loss_fn(y_label_pred, y_label_true)\r\n",
        "            label_preds = preds_to_lables(y_label_pred.detach().cpu()).numpy()\r\n",
        "\r\n",
        "          # Logging\r\n",
        "          label_true = y_label_true.detach().cpu().numpy()\r\n",
        "          correct, __ = model_performance(label_preds, label_true, batch_len)\r\n",
        "          epoch_loss += loss.item()\r\n",
        "          epoch_correct += correct\r\n",
        "          no_observations += batch_len\r\n",
        "\r\n",
        "          # Save labels\r\n",
        "          pred_all = np.append(pred_all, label_preds)\r\n",
        "          trg_all = np.append(trg_all, label_true)\r\n",
        "\r\n",
        "    return epoch_loss/no_observations, epoch_correct/no_observations, pred_all, trg_all"
      ],
      "execution_count": 28,
      "outputs": []
    },
    {
      "cell_type": "code",
      "metadata": {
        "id": "4XlG7CvT0Blj"
      },
      "source": [
        "# We define our training loop\n",
        "def train(train_iter, dev_iter, model, optimizer, number_epoch=10, context_type='none',\n",
        "          classification=False, save_best=False):\n",
        "  \"\"\"\n",
        "  Training loop for the model, which calls on eval to evaluate after each epoch\n",
        "  \"\"\"\n",
        "\n",
        "  print(f\"Training model - classification {classification}, context {context_type}\")\n",
        "  train_losses, valid_losses = [], []\n",
        "  train_accs, valid_accs = [], []\n",
        "  best_valid_acc = 0\n",
        "\n",
        "  for epoch in range(1, number_epoch+1):\n",
        "    \n",
        "    model.train()\n",
        "    \n",
        "    epoch_loss = 0\n",
        "    epoch_correct = 0\n",
        "    no_observations = 0  # Observations used for training so far\n",
        "\n",
        "    for batch in train_iter:\n",
        "\n",
        "      # Extract relevant data fields and cast to tensors\n",
        "      edit1 = torch.LongTensor(batch['x_edit_1']).to(device)\n",
        "      edit2 = torch.LongTensor(batch['x_edit_2']).to(device)\n",
        "      y_label_true = torch.FloatTensor(batch['y_label']).to(device)\n",
        "      if context_type == 'masked':\n",
        "        context1 = torch.LongTensor(batch['x_masked_1']).to(device)\n",
        "        context2 = torch.LongTensor(batch['x_masked_2']).to(device)\n",
        "      elif context_type == 'original':\n",
        "        context1 = context2 = torch.LongTensor(batch['x_original']).to(device)\n",
        "      else:\n",
        "        context1 = context2 = None\n",
        "\n",
        "      if classification:\n",
        "        y_grade1_true = y_grade2_true = None\n",
        "      else:\n",
        "        y_grade1_true = torch.FloatTensor(batch['y_grade_1']).to(device)\n",
        "        y_grade2_true = torch.FloatTensor(batch['y_grade_2']).to(device)\n",
        "  \n",
        "      batch_len = len(y_label_true)\n",
        "      optimizer.zero_grad()\n",
        "\n",
        "      # Forward pass\n",
        "      y_label_pred, y_grade1_pred, y_grade2_pred = model(edit1, context1, edit2, context2)\n",
        "      y_label_pred = y_label_pred.squeeze(-1)\n",
        "\n",
        "      # Calculate regression loss\n",
        "      if not classification:\n",
        "        if batch_len == 1:\n",
        "          y_grade1_pred = y_grade1_pred.unsqueeze(-1)\n",
        "          y_grade2_pred = y_grade2_pred.unsqueeze(-1)\n",
        "        loss_fn = nn.MSELoss(reduction=\"sum\")\n",
        "        loss1 = loss_fn(y_grade1_pred, y_grade1_true)\n",
        "        loss2 = loss_fn(y_grade2_pred, y_grade2_true)\n",
        "        loss = (loss1 + loss2)\n",
        "        label_preds = y_label_pred.detach().cpu().numpy()\n",
        "      # Calculate classification loss\n",
        "      else:\n",
        "        loss_fn = nn.BCEWithLogitsLoss(reduction=\"sum\")\n",
        "        loss = loss_fn(y_label_pred, y_label_true)\n",
        "        label_preds = preds_to_lables(y_label_pred.detach().cpu()).numpy()\n",
        "\n",
        "      # Backward pass\n",
        "      loss.backward()\n",
        "      sum_grad = 0\n",
        "      clip_grad_norm_(model.parameters(), GRAD_CLIP)\n",
        "      optimizer.step()\n",
        "\n",
        "      # Logging\n",
        "      correct, __ = model_performance(label_preds, y_label_true.detach().cpu().numpy(), batch_len)\n",
        "      epoch_loss += loss.item()\n",
        "      epoch_correct += correct\n",
        "      no_observations += batch_len\n",
        "  \n",
        "    valid_loss, valid_acc, __, __ = eval(dev_iter, model, context_type, classification)\n",
        "    valid_losses.append(valid_loss)\n",
        "    valid_accs.append(valid_acc)\n",
        "\n",
        "    epoch_loss, epoch_acc = epoch_loss / no_observations, epoch_correct / no_observations\n",
        "    train_losses.append(epoch_loss)\n",
        "    train_accs.append(epoch_acc)\n",
        "  \n",
        "    print(f'| Epoch: {epoch:02} | Train Loss: {epoch_loss:.2f} | Train Accuracy: {epoch_acc:.2f} | \\\n",
        "    Val. Loss: {valid_loss:.2f} | Val. Accuracy: {valid_acc:.2f} |')\n",
        "\n",
        "    if save_best and valid_acc > best_valid_acc:\n",
        "      model_dir = './'\n",
        "      torch.save(model.state_dict(), os.path.join(model_dir, 'model.pt'))\n",
        "      best_valid_acc = valid_acc\n",
        "  \n",
        "  fig, ax = plt.subplots(nrows=1, ncols=2, figsize=(15,4))\n",
        "  ax[0].plot(train_losses, label='Training losses')\n",
        "  ax[0].plot(valid_losses, label='Validation losses')\n",
        "  ax[0].legend()\n",
        "  ax[1].plot(train_accs, label='Training accuracies')\n",
        "  ax[1].plot(valid_accs, label='Validation accuracies')\n",
        "  ax[1].legend()\n",
        "  fig.show()"
      ],
      "execution_count": 29,
      "outputs": []
    },
    {
      "cell_type": "code",
      "metadata": {
        "id": "Kr1RqWfPB_cv"
      },
      "source": [
        "### Run tests\r\n",
        "for context_type in context_types:\r\n",
        "  for classification in [True, False]:\r\n",
        "    transformer = RobertaModel.from_pretrained(\"roberta-base\", output_hidden_states=True)\r\n",
        "    model = ColBERT(tokenizer, transformer, context_type != 'none', classification).to(device)\r\n",
        "    optimizer = torch.optim.Adam(model.parameters(), lr=LEARNING_RATE, eps=ADAM_EPSILON)\r\n",
        "    train(train_loader, eval_loader, model, optimizer, EPOCHS, context_type, classification)"
      ],
      "execution_count": null,
      "outputs": []
    },
    {
      "cell_type": "markdown",
      "metadata": {
        "id": "IbFt_BREvaYs"
      },
      "source": [
        "```\r\n",
        "Training model - classification True, context none\r\n",
        "| Epoch: 01 | Train Loss: 0.73 | Train Accuracy: 0.50 |     Val. Loss: 0.70 | Val. Accuracy: 0.50 |\r\n",
        "| Epoch: 02 | Train Loss: 0.70 | Train Accuracy: 0.51 |     Val. Loss: 0.68 | Val. Accuracy: 0.56 |\r\n",
        "| Epoch: 03 | Train Loss: 0.63 | Train Accuracy: 0.65 |     Val. Loss: 0.71 | Val. Accuracy: 0.58 |\r\n",
        "| Epoch: 04 | Train Loss: 0.50 | Train Accuracy: 0.76 |     Val. Loss: 0.77 | Val. Accuracy: 0.60 |\r\n",
        "| Epoch: 05 | Train Loss: 0.39 | Train Accuracy: 0.82 |     Val. Loss: 0.83 | Val. Accuracy: 0.62 |\r\n",
        "| Epoch: 06 | Train Loss: 0.31 | Train Accuracy: 0.87 |     Val. Loss: 0.81 | Val. Accuracy: 0.62 |\r\n",
        "| Epoch: 07 | Train Loss: 0.23 | Train Accuracy: 0.90 |     Val. Loss: 0.98 | Val. Accuracy: 0.63 |\r\n",
        "| Epoch: 08 | Train Loss: 0.18 | Train Accuracy: 0.93 |     Val. Loss: 1.11 | Val. Accuracy: 0.63 |\r\n",
        "| Epoch: 09 | Train Loss: 0.14 | Train Accuracy: 0.95 |     Val. Loss: 1.20 | Val. Accuracy: 0.63 |\r\n",
        "| Epoch: 10 | Train Loss: 0.10 | Train Accuracy: 0.96 |     Val. Loss: 1.24 | Val. Accuracy: 0.64 |\r\n",
        "Training model - classification False, context none\r\n",
        "| Epoch: 01 | Train Loss: 0.90 | Train Accuracy: 0.51 |     Val. Loss: 0.74 | Val. Accuracy: 0.59 |\r\n",
        "| Epoch: 02 | Train Loss: 0.67 | Train Accuracy: 0.61 |     Val. Loss: 0.64 | Val. Accuracy: 0.61 |\r\n",
        "| Epoch: 03 | Train Loss: 0.50 | Train Accuracy: 0.68 |     Val. Loss: 0.71 | Val. Accuracy: 0.64 |\r\n",
        "| Epoch: 04 | Train Loss: 0.39 | Train Accuracy: 0.72 |     Val. Loss: 0.50 | Val. Accuracy: 0.67 |\r\n",
        "| Epoch: 05 | Train Loss: 0.32 | Train Accuracy: 0.75 |     Val. Loss: 0.51 | Val. Accuracy: 0.68 |\r\n",
        "| Epoch: 06 | Train Loss: 0.27 | Train Accuracy: 0.79 |     Val. Loss: 0.52 | Val. Accuracy: 0.69 |\r\n",
        "| Epoch: 07 | Train Loss: 0.23 | Train Accuracy: 0.81 |     Val. Loss: 0.74 | Val. Accuracy: 0.69 |\r\n",
        "| Epoch: 08 | Train Loss: 0.19 | Train Accuracy: 0.84 |     Val. Loss: 0.45 | Val. Accuracy: 0.71 |\r\n",
        "| Epoch: 09 | Train Loss: 0.16 | Train Accuracy: 0.86 |     Val. Loss: 0.42 | Val. Accuracy: 0.73 |\r\n",
        "| Epoch: 10 | Train Loss: 0.13 | Train Accuracy: 0.88 |     Val. Loss: 0.44 | Val. Accuracy: 0.74 |\r\n",
        "Training model - classification True, context masked\r\n",
        "| Epoch: 01 | Train Loss: 0.77 | Train Accuracy: 0.50 |     Val. Loss: 0.99 | Val. Accuracy: 0.51 |\r\n",
        "| Epoch: 02 | Train Loss: 0.72 | Train Accuracy: 0.55 |     Val. Loss: 0.68 | Val. Accuracy: 0.57 |\r\n",
        "| Epoch: 03 | Train Loss: 0.59 | Train Accuracy: 0.70 |     Val. Loss: 0.70 | Val. Accuracy: 0.59 |\r\n",
        "| Epoch: 04 | Train Loss: 0.46 | Train Accuracy: 0.80 |     Val. Loss: 0.78 | Val. Accuracy: 0.62 |\r\n",
        "| Epoch: 05 | Train Loss: 0.36 | Train Accuracy: 0.85 |     Val. Loss: 1.13 | Val. Accuracy: 0.63 |\r\n",
        "| Epoch: 06 | Train Loss: 0.28 | Train Accuracy: 0.89 |     Val. Loss: 1.06 | Val. Accuracy: 0.63 |\r\n",
        "| Epoch: 07 | Train Loss: 0.21 | Train Accuracy: 0.92 |     Val. Loss: 1.20 | Val. Accuracy: 0.64 |\r\n",
        "| Epoch: 08 | Train Loss: 0.16 | Train Accuracy: 0.94 |     Val. Loss: 1.95 | Val. Accuracy: 0.63 |\r\n",
        "| Epoch: 09 | Train Loss: 0.13 | Train Accuracy: 0.96 |     Val. Loss: 2.48 | Val. Accuracy: 0.64 |\r\n",
        "| Epoch: 10 | Train Loss: 0.12 | Train Accuracy: 0.97 |     Val. Loss: 2.27 | Val. Accuracy: 0.65 |\r\n",
        "Training model - classification False, context masked\r\n",
        "| Epoch: 01 | Train Loss: 0.90 | Train Accuracy: 0.53 |     Val. Loss: 0.68 | Val. Accuracy: 0.58 |\r\n",
        "| Epoch: 02 | Train Loss: 0.68 | Train Accuracy: 0.61 |     Val. Loss: 0.60 | Val. Accuracy: 0.61 |\r\n",
        "| Epoch: 03 | Train Loss: 0.54 | Train Accuracy: 0.68 |     Val. Loss: 0.57 | Val. Accuracy: 0.65 |\r\n",
        "| Epoch: 04 | Train Loss: 0.43 | Train Accuracy: 0.72 |     Val. Loss: 0.67 | Val. Accuracy: 0.66 |\r\n",
        "| Epoch: 05 | Train Loss: 0.35 | Train Accuracy: 0.75 |     Val. Loss: 0.57 | Val. Accuracy: 0.67 |\r\n",
        "| Epoch: 06 | Train Loss: 0.30 | Train Accuracy: 0.78 |     Val. Loss: 0.47 | Val. Accuracy: 0.69 |\r\n",
        "| Epoch: 07 | Train Loss: 0.26 | Train Accuracy: 0.80 |     Val. Loss: 0.46 | Val. Accuracy: 0.69 |\r\n",
        "| Epoch: 08 | Train Loss: 0.23 | Train Accuracy: 0.81 |     Val. Loss: 0.63 | Val. Accuracy: 0.69 |\r\n",
        "| Epoch: 09 | Train Loss: 0.20 | Train Accuracy: 0.83 |     Val. Loss: 0.52 | Val. Accuracy: 0.71 |\r\n",
        "| Epoch: 10 | Train Loss: 0.17 | Train Accuracy: 0.85 |     Val. Loss: 0.44 | Val. Accuracy: 0.73 |\r\n",
        "Training model - classification True, context original\r\n",
        "| Epoch: 01 | Train Loss: 0.75 | Train Accuracy: 0.50 |     Val. Loss: 0.68 | Val. Accuracy: 0.57 |\r\n",
        "| Epoch: 02 | Train Loss: 0.70 | Train Accuracy: 0.59 |     Val. Loss: 0.68 | Val. Accuracy: 0.58 |\r\n",
        "| Epoch: 03 | Train Loss: 0.57 | Train Accuracy: 0.72 |     Val. Loss: 0.76 | Val. Accuracy: 0.60 |\r\n",
        "| Epoch: 04 | Train Loss: 0.44 | Train Accuracy: 0.81 |     Val. Loss: 0.94 | Val. Accuracy: 0.62 |\r\n",
        "| Epoch: 05 | Train Loss: 0.34 | Train Accuracy: 0.85 |     Val. Loss: 0.90 | Val. Accuracy: 0.63 |\r\n",
        "| Epoch: 06 | Train Loss: 0.26 | Train Accuracy: 0.90 |     Val. Loss: 1.22 | Val. Accuracy: 0.63 |\r\n",
        "| Epoch: 07 | Train Loss: 0.19 | Train Accuracy: 0.93 |     Val. Loss: 1.50 | Val. Accuracy: 0.65 |\r\n",
        "| Epoch: 08 | Train Loss: 0.15 | Train Accuracy: 0.95 |     Val. Loss: 1.44 | Val. Accuracy: 0.65 |\r\n",
        "| Epoch: 09 | Train Loss: 0.12 | Train Accuracy: 0.96 |     Val. Loss: 2.00 | Val. Accuracy: 0.65 |\r\n",
        "| Epoch: 10 | Train Loss: 0.11 | Train Accuracy: 0.97 |     Val. Loss: 3.15 | Val. Accuracy: 0.64 |\r\n",
        "Training model - classification False, context original\r\n",
        "| Epoch: 01 | Train Loss: 0.89 | Train Accuracy: 0.52 |     Val. Loss: 0.83 | Val. Accuracy: 0.56 |\r\n",
        "| Epoch: 02 | Train Loss: 0.69 | Train Accuracy: 0.60 |     Val. Loss: 0.66 | Val. Accuracy: 0.61 |\r\n",
        "| Epoch: 03 | Train Loss: 0.53 | Train Accuracy: 0.67 |     Val. Loss: 0.53 | Val. Accuracy: 0.64 |\r\n",
        "| Epoch: 04 | Train Loss: 0.42 | Train Accuracy: 0.72 |     Val. Loss: 0.55 | Val. Accuracy: 0.65 |\r\n",
        "| Epoch: 05 | Train Loss: 0.35 | Train Accuracy: 0.75 |     Val. Loss: 0.49 | Val. Accuracy: 0.66 |\r\n",
        "| Epoch: 06 | Train Loss: 0.29 | Train Accuracy: 0.77 |     Val. Loss: 0.49 | Val. Accuracy: 0.68 |\r\n",
        "| Epoch: 07 | Train Loss: 0.26 | Train Accuracy: 0.80 |     Val. Loss: 0.48 | Val. Accuracy: 0.68 |\r\n",
        "| Epoch: 08 | Train Loss: 0.23 | Train Accuracy: 0.81 |     Val. Loss: 0.46 | Val. Accuracy: 0.69 |\r\n",
        "| Epoch: 09 | Train Loss: 0.20 | Train Accuracy: 0.83 |     Val. Loss: 0.46 | Val. Accuracy: 0.70 |\r\n",
        "| Epoch: 10 | Train Loss: 0.18 | Train Accuracy: 0.85 |     Val. Loss: 0.46 | Val. Accuracy: 0.71 |\r\n",
        "```"
      ]
    },
    {
      "cell_type": "markdown",
      "metadata": {
        "id": "ga6s5tqKo3UQ"
      },
      "source": [
        "<figure>\r\n",
        "    <img src=\"https://drive.google.com/uc?export=view&id=1x2eys3orwk1O762xD9zPdlDlcqNhOvtu\" alt=\"Loss and accuracy curves 1\" width=90% />\r\n",
        "</figure>\r\n",
        "\r\n",
        "<figure>\r\n",
        "    <img src=\"https://drive.google.com/uc?export=view&id=10OZVj60MvDDPQt-0CKeI9C4c1hvyfQ_q\" alt=\"Loss and accuracy curves 1\" width=90% />\r\n",
        "</figure>\r\n",
        "\r\n",
        "<figure>\r\n",
        "    <img src=\"https://drive.google.com/uc?export=view&id=1g2TWUuC7TUsA5TAcjlKCvP88Mb1zsztv\" alt=\"Loss and accuracy curves 1\" width=90% />\r\n",
        "</figure>"
      ]
    },
    {
      "cell_type": "markdown",
      "metadata": {
        "id": "SU4sQeYNTcO5"
      },
      "source": [
        "### Train the best model"
      ]
    },
    {
      "cell_type": "code",
      "metadata": {
        "id": "8JnjIyB8TgFz",
        "colab": {
          "base_uri": "https://localhost:8080/",
          "height": 869
        },
        "outputId": "c96ca99f-5067-444d-de04-6f6e13f7cf24"
      },
      "source": [
        "transformer = RobertaModel.from_pretrained(\"roberta-base\", output_hidden_states=True)\r\n",
        "model = ColBERT(tokenizer,\r\n",
        "                transformer,\r\n",
        "                context=False,\r\n",
        "                classification=False,\r\n",
        "                simple_feature=False)\r\n",
        "model = model.to(device)\r\n",
        "optimizer = torch.optim.AdamW(model.parameters(), lr=LEARNING_RATE, eps=ADAM_EPSILON)\r\n",
        "train(train_loader,\r\n",
        "      eval_loader,\r\n",
        "      model,\r\n",
        "      optimizer\r\n",
        "      number_epoch=30,\r\n",
        "      context_type='none',\r\n",
        "      classification=False,\r\n",
        "      save_best=True)"
      ],
      "execution_count": 31,
      "outputs": [
        {
          "output_type": "stream",
          "text": [
            "Training model - classification False, context none\n",
            "| Epoch: 01 | Train Loss: 0.67 | Train Accuracy: 0.59 |     Val. Loss: 0.67 | Val. Accuracy: 0.63 |\n",
            "| Epoch: 02 | Train Loss: 0.54 | Train Accuracy: 0.66 |     Val. Loss: 0.57 | Val. Accuracy: 0.64 |\n",
            "| Epoch: 03 | Train Loss: 0.45 | Train Accuracy: 0.69 |     Val. Loss: 0.52 | Val. Accuracy: 0.69 |\n",
            "| Epoch: 04 | Train Loss: 0.35 | Train Accuracy: 0.74 |     Val. Loss: 0.53 | Val. Accuracy: 0.70 |\n",
            "| Epoch: 05 | Train Loss: 0.28 | Train Accuracy: 0.77 |     Val. Loss: 0.48 | Val. Accuracy: 0.72 |\n",
            "| Epoch: 06 | Train Loss: 0.22 | Train Accuracy: 0.81 |     Val. Loss: 0.46 | Val. Accuracy: 0.74 |\n",
            "| Epoch: 07 | Train Loss: 0.18 | Train Accuracy: 0.84 |     Val. Loss: 0.41 | Val. Accuracy: 0.75 |\n",
            "| Epoch: 08 | Train Loss: 0.15 | Train Accuracy: 0.86 |     Val. Loss: 0.44 | Val. Accuracy: 0.75 |\n",
            "| Epoch: 09 | Train Loss: 0.13 | Train Accuracy: 0.87 |     Val. Loss: 0.41 | Val. Accuracy: 0.76 |\n",
            "| Epoch: 10 | Train Loss: 0.11 | Train Accuracy: 0.89 |     Val. Loss: 0.36 | Val. Accuracy: 0.77 |\n",
            "| Epoch: 11 | Train Loss: 0.10 | Train Accuracy: 0.91 |     Val. Loss: 0.38 | Val. Accuracy: 0.78 |\n",
            "| Epoch: 12 | Train Loss: 0.09 | Train Accuracy: 0.91 |     Val. Loss: 0.39 | Val. Accuracy: 0.77 |\n",
            "| Epoch: 13 | Train Loss: 0.08 | Train Accuracy: 0.92 |     Val. Loss: 0.35 | Val. Accuracy: 0.79 |\n",
            "| Epoch: 14 | Train Loss: 0.07 | Train Accuracy: 0.93 |     Val. Loss: 0.38 | Val. Accuracy: 0.78 |\n",
            "| Epoch: 15 | Train Loss: 0.06 | Train Accuracy: 0.94 |     Val. Loss: 0.37 | Val. Accuracy: 0.78 |\n",
            "| Epoch: 16 | Train Loss: 0.06 | Train Accuracy: 0.94 |     Val. Loss: 0.39 | Val. Accuracy: 0.79 |\n",
            "| Epoch: 17 | Train Loss: 0.05 | Train Accuracy: 0.95 |     Val. Loss: 0.36 | Val. Accuracy: 0.79 |\n",
            "| Epoch: 18 | Train Loss: 0.05 | Train Accuracy: 0.95 |     Val. Loss: 0.35 | Val. Accuracy: 0.80 |\n",
            "| Epoch: 19 | Train Loss: 0.05 | Train Accuracy: 0.96 |     Val. Loss: 0.34 | Val. Accuracy: 0.79 |\n",
            "| Epoch: 20 | Train Loss: 0.04 | Train Accuracy: 0.96 |     Val. Loss: 0.37 | Val. Accuracy: 0.79 |\n",
            "| Epoch: 21 | Train Loss: 0.04 | Train Accuracy: 0.96 |     Val. Loss: 0.35 | Val. Accuracy: 0.79 |\n",
            "| Epoch: 22 | Train Loss: 0.04 | Train Accuracy: 0.97 |     Val. Loss: 0.34 | Val. Accuracy: 0.80 |\n",
            "| Epoch: 23 | Train Loss: 0.04 | Train Accuracy: 0.97 |     Val. Loss: 0.32 | Val. Accuracy: 0.79 |\n",
            "| Epoch: 24 | Train Loss: 0.04 | Train Accuracy: 0.97 |     Val. Loss: 0.32 | Val. Accuracy: 0.79 |\n",
            "| Epoch: 25 | Train Loss: 0.03 | Train Accuracy: 0.97 |     Val. Loss: 0.33 | Val. Accuracy: 0.79 |\n",
            "| Epoch: 26 | Train Loss: 0.03 | Train Accuracy: 0.97 |     Val. Loss: 0.34 | Val. Accuracy: 0.79 |\n",
            "| Epoch: 27 | Train Loss: 0.03 | Train Accuracy: 0.97 |     Val. Loss: 0.34 | Val. Accuracy: 0.80 |\n",
            "| Epoch: 28 | Train Loss: 0.03 | Train Accuracy: 0.98 |     Val. Loss: 0.31 | Val. Accuracy: 0.79 |\n",
            "| Epoch: 29 | Train Loss: 0.03 | Train Accuracy: 0.98 |     Val. Loss: 0.32 | Val. Accuracy: 0.80 |\n",
            "| Epoch: 30 | Train Loss: 0.03 | Train Accuracy: 0.98 |     Val. Loss: 0.31 | Val. Accuracy: 0.80 |\n",
            "\n",
            "Saving model... done.\n"
          ],
          "name": "stdout"
        },
        {
          "output_type": "display_data",
          "data": {
            "image/png": "[encoded data removed]",
            "text/plain": [
              "<Figure size 1080x288 with 2 Axes>"
            ]
          },
          "metadata": {
            "tags": [],
            "needs_background": "light"
          }
        }
      ]
    },
    {
      "cell_type": "markdown",
      "metadata": {
        "id": "lWS8f9gvRsr_"
      },
      "source": [
        "### Testing"
      ]
    },
    {
      "cell_type": "code",
      "metadata": {
        "id": "nnNyaKOcRvek",
        "colab": {
          "base_uri": "https://localhost:8080/"
        },
        "outputId": "354ad53d-285f-49bd-e60e-d1c14cf841db"
      },
      "source": [
        "# Load data from CSV\r\n",
        "test_df = pd.read_csv('semeval-2020-task-7-dataset/subtask-2/test.csv')\r\n",
        "print('Data loaded from CSV.')\r\n",
        "\r\n",
        "# Preprocess the data\r\n",
        "test_df2 = preprocess_data(test_df, drop_zero=True, keep_id=True)\r\n",
        "test_dataset = Task2Dataset(test_df2)\r\n",
        "print('Dataset created.')\r\n",
        "\r\n",
        "# Create data loaders\r\n",
        "test_loader = DataLoader(test_dataset, batch_size=BATCH_SIZE, collate_fn=pad_batch)\r\n",
        "print('Test data loader generated.')"
      ],
      "execution_count": 32,
      "outputs": [
        {
          "output_type": "stream",
          "text": [
            "Data loaded from CSV.\n",
            "[preprocess] started... done.\n",
            "Dataset created.\n",
            "Test data loader generated.\n"
          ],
          "name": "stdout"
        }
      ]
    },
    {
      "cell_type": "code",
      "metadata": {
        "id": "-cSzkuK8TAoy",
        "colab": {
          "base_uri": "https://localhost:8080/"
        },
        "outputId": "8263854a-62d8-4a02-af17-a258c3e7724a"
      },
      "source": [
        "# model.load_state_dict(torch.load(os.path.join(model_dir, 'model.pt')))\r\n",
        "# model.to(device)\r\n",
        "model.eval()\r\n",
        "_, acc, preds, actual = eval(test_loader, model, context_type='none', classification=False)\r\n",
        "print(f'Final accuracy on the test set: {acc}')\r\n",
        "\r\n",
        "preds = (preds + 1).astype(int)\r\n",
        "actual = (actual + 1).astype(int)\r\n",
        "\r\n",
        "df = pd.DataFrame({'id': test_df2['id'], 'pred': preds, 'label': actual})\r\n",
        "df.to_csv('task-2-output.csv', index=False)\r\n",
        "print('Predictions exported to CSV.')"
      ],
      "execution_count": 33,
      "outputs": [
        {
          "output_type": "stream",
          "text": [
            "Final accuracy on the test set: 0.613013698630137\n",
            "Predictions exported to CSV.\n"
          ],
          "name": "stdout"
        }
      ]
    },
    {
      "cell_type": "code",
      "metadata": {
        "id": "eCwM8CIa1JFn"
      },
      "source": [
        ""
      ],
      "execution_count": null,
      "outputs": []
    }
  ]
}